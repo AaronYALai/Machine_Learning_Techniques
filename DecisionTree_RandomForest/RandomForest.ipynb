{
 "cells": [
  {
   "cell_type": "code",
   "execution_count": 1,
   "metadata": {
    "collapsed": true
   },
   "outputs": [],
   "source": [
    "import numpy as np\n",
    "import pandas as pd\n",
    "import time\n",
    "\n",
    "from DecisionTree import DTree"
   ]
  },
  {
   "cell_type": "code",
   "execution_count": 2,
   "metadata": {
    "collapsed": true
   },
   "outputs": [],
   "source": [
    "# Random Forest inherits C&RT decision tree\n",
    "\n",
    "class Random_Forest(DTree):\n",
    "    def __init__(self, d=2):\n",
    "        self.dim = d\n",
    "        # Collection of Decision Trees\n",
    "        self.Collect = {}\n",
    "\n",
    "    def build_forest(self, df, num=100, max_depth=100):\n",
    "        \"\"\"Train decision trees on many bootstrapped datasets\"\"\"\n",
    "        N = len(df)\n",
    "        for i in range(num):\n",
    "            Tree = DTree(self.dim)\n",
    "            Tree.build_tree(self.Bootstrap(df, N), max_depth=max_depth)\n",
    "            self.Collect[i] = Tree\n",
    "\n",
    "    def Bootstrap(self, df, N):\n",
    "        \"\"\"Bootstrapping with the size the same as the original dataset\"\"\"\n",
    "        return df.sample(N, replace=True)\n",
    "\n",
    "    def predict(self, X):\n",
    "        \"\"\"Uniform voting to determine which class the input belongs to\"\"\"\n",
    "        s = sum([self.Collect[i].predict(X) for i in range(len(self.Collect))])\n",
    "        return 1 if s >= 0 else -1\n"
   ]
  },
  {
   "cell_type": "code",
   "execution_count": 3,
   "metadata": {
    "collapsed": true
   },
   "outputs": [],
   "source": [
    "def train_Forest(train_data, test_data, num, max_depth=100):\n",
    "    RF = Random_Forest()\n",
    "    RF.build_forest(train_data, num, max_depth)\n",
    "\n",
    "    train_pred = [RF.predict(X) for X in train_data[[0, 1]].values]\n",
    "    train_accu = sum(train_pred == train_data.y) * 100 / len(train_data)\n",
    "\n",
    "    test_pred = [RF.predict(X) for X in test_data[[0, 1]].values]\n",
    "    test_accu = sum(test_pred == test_data.y) * 100 / len(test_data)\n",
    "\n",
    "    return train_accu, test_accu\n"
   ]
  },
  {
   "cell_type": "code",
   "execution_count": 4,
   "metadata": {
    "collapsed": false
   },
   "outputs": [
    {
     "data": {
      "text/html": [
       "<div>\n",
       "<table border=\"1\" class=\"dataframe\">\n",
       "  <thead>\n",
       "    <tr style=\"text-align: right;\">\n",
       "      <th></th>\n",
       "      <th>0</th>\n",
       "      <th>1</th>\n",
       "      <th>y</th>\n",
       "    </tr>\n",
       "  </thead>\n",
       "  <tbody>\n",
       "    <tr>\n",
       "      <th>0</th>\n",
       "      <td>0.757222</td>\n",
       "      <td>0.633831</td>\n",
       "      <td>-1</td>\n",
       "    </tr>\n",
       "    <tr>\n",
       "      <th>1</th>\n",
       "      <td>0.847382</td>\n",
       "      <td>0.281581</td>\n",
       "      <td>-1</td>\n",
       "    </tr>\n",
       "    <tr>\n",
       "      <th>2</th>\n",
       "      <td>0.249310</td>\n",
       "      <td>0.618635</td>\n",
       "      <td>1</td>\n",
       "    </tr>\n",
       "    <tr>\n",
       "      <th>3</th>\n",
       "      <td>0.538526</td>\n",
       "      <td>0.144259</td>\n",
       "      <td>-1</td>\n",
       "    </tr>\n",
       "    <tr>\n",
       "      <th>4</th>\n",
       "      <td>0.474435</td>\n",
       "      <td>0.414558</td>\n",
       "      <td>-1</td>\n",
       "    </tr>\n",
       "  </tbody>\n",
       "</table>\n",
       "</div>"
      ],
      "text/plain": [
       "          0         1  y\n",
       "0  0.757222  0.633831 -1\n",
       "1  0.847382  0.281581 -1\n",
       "2  0.249310  0.618635  1\n",
       "3  0.538526  0.144259 -1\n",
       "4  0.474435  0.414558 -1"
      ]
     },
     "execution_count": 4,
     "metadata": {},
     "output_type": "execute_result"
    }
   ],
   "source": [
    "# Loading Data\n",
    "train_data = pd.read_csv('Data/hw3_train.dat', sep=' ', header=None, names=[0, 1, 'y'])\n",
    "train_data.head()"
   ]
  },
  {
   "cell_type": "code",
   "execution_count": 5,
   "metadata": {
    "collapsed": false
   },
   "outputs": [
    {
     "data": {
      "text/html": [
       "<div>\n",
       "<table border=\"1\" class=\"dataframe\">\n",
       "  <thead>\n",
       "    <tr style=\"text-align: right;\">\n",
       "      <th></th>\n",
       "      <th>0</th>\n",
       "      <th>1</th>\n",
       "      <th>y</th>\n",
       "    </tr>\n",
       "  </thead>\n",
       "  <tbody>\n",
       "    <tr>\n",
       "      <th>0</th>\n",
       "      <td>0.984250</td>\n",
       "      <td>0.712610</td>\n",
       "      <td>-1</td>\n",
       "    </tr>\n",
       "    <tr>\n",
       "      <th>1</th>\n",
       "      <td>0.901491</td>\n",
       "      <td>0.462824</td>\n",
       "      <td>-1</td>\n",
       "    </tr>\n",
       "    <tr>\n",
       "      <th>2</th>\n",
       "      <td>0.872418</td>\n",
       "      <td>0.365547</td>\n",
       "      <td>-1</td>\n",
       "    </tr>\n",
       "    <tr>\n",
       "      <th>3</th>\n",
       "      <td>0.810913</td>\n",
       "      <td>0.058338</td>\n",
       "      <td>-1</td>\n",
       "    </tr>\n",
       "    <tr>\n",
       "      <th>4</th>\n",
       "      <td>0.577230</td>\n",
       "      <td>0.203007</td>\n",
       "      <td>-1</td>\n",
       "    </tr>\n",
       "  </tbody>\n",
       "</table>\n",
       "</div>"
      ],
      "text/plain": [
       "          0         1  y\n",
       "0  0.984250  0.712610 -1\n",
       "1  0.901491  0.462824 -1\n",
       "2  0.872418  0.365547 -1\n",
       "3  0.810913  0.058338 -1\n",
       "4  0.577230  0.203007 -1"
      ]
     },
     "execution_count": 5,
     "metadata": {},
     "output_type": "execute_result"
    }
   ],
   "source": [
    "test_data = pd.read_csv('Data/hw3_test.dat', sep=' ', header=None, names=[0, 1, 'y'])\n",
    "test_data.head()"
   ]
  },
  {
   "cell_type": "code",
   "execution_count": 6,
   "metadata": {
    "collapsed": false
   },
   "outputs": [
    {
     "name": "stdout",
     "output_type": "stream",
     "text": [
      "Train on 1 Random Forest with 300 trees.\n",
      "\tAccuracy on Train set: 100.000 %\n",
      "\tAccuracy on Test set: 92.600 %\n",
      "Using 9.475 seconds\n",
      "\n"
     ]
    }
   ],
   "source": [
    "print(\"Train on 1 Random Forest with 300 trees.\")\n",
    "\n",
    "Forest_Start = time.clock()\n",
    "train_accu, test_accu = train_Forest(train_data, test_data, 300)\n",
    "print(\"\\tAccuracy on Train set: %.3f %%\" % train_accu)\n",
    "print(\"\\tAccuracy on Test set: %.3f %%\" % test_accu)\n",
    "print(\"Using %.3f seconds\\n\" % (time.clock() - Forest_Start))"
   ]
  },
  {
   "cell_type": "code",
   "execution_count": 7,
   "metadata": {
    "collapsed": false
   },
   "outputs": [
    {
     "name": "stdout",
     "output_type": "stream",
     "text": [
      "Train 100 Forests to get averaged accuracy.\n",
      "\tAccuracy on Train set: 100.000 %\n",
      "\tAccuracy on Test set: 92.327 %\n",
      "Using 894.039 seconds\n",
      "\n"
     ]
    }
   ],
   "source": [
    "print(\"Train 100 Forests to get averaged accuracy.\")\n",
    "Forests_Start = time.clock()\n",
    "Train_Accu = []\n",
    "Test_Accu = []\n",
    "\n",
    "for i in range(100):\n",
    "    train_accu, test_accu = train_Forest(train_data, test_data, 300)\n",
    "    Train_Accu.append(train_accu)\n",
    "    Test_Accu.append(test_accu)\n",
    "\n",
    "print(\"\\tAccuracy on Train set: %.3f %%\" % (np.mean(Train_Accu)))\n",
    "print(\"\\tAccuracy on Test set: %.3f %%\" % (np.mean(Test_Accu)))\n",
    "print(\"Using %.3f seconds\\n\" % (time.clock() - Forests_Start))"
   ]
  },
  {
   "cell_type": "code",
   "execution_count": 8,
   "metadata": {
    "collapsed": false
   },
   "outputs": [
    {
     "name": "stdout",
     "output_type": "stream",
     "text": [
      "Get averaged accuracy on 100 Forests\n",
      ", whose trees have only 1 branch(Pruned).\n",
      "\tAccuracy on Train set: 87.950 %\n",
      "\tAccuracy on Test set: 84.846 %\n",
      "Using 302.977 seconds\n"
     ]
    }
   ],
   "source": [
    "print(\"Get averaged accuracy on 100 Forests\")\n",
    "print(\", whose trees have only 1 branch(Pruned).\")\n",
    "Pruned_Forests_Start = time.clock()\n",
    "Train_Accu = []\n",
    "Test_Accu = []\n",
    "\n",
    "for i in range(100):\n",
    "    train_accu, test_accu = train_Forest(train_data, test_data, 300, 1)\n",
    "    Train_Accu.append(train_accu)\n",
    "    Test_Accu.append(test_accu)\n",
    "\n",
    "print(\"\\tAccuracy on Train set: %.3f %%\" % (np.mean(Train_Accu)))\n",
    "print(\"\\tAccuracy on Test set: %.3f %%\" % (np.mean(Test_Accu)))\n",
    "print(\"Using %.3f seconds\" % (time.clock() - Pruned_Forests_Start))"
   ]
  },
  {
   "cell_type": "code",
   "execution_count": null,
   "metadata": {
    "collapsed": true
   },
   "outputs": [],
   "source": []
  }
 ],
 "metadata": {
  "kernelspec": {
   "display_name": "Python 3",
   "language": "python",
   "name": "python3"
  },
  "language_info": {
   "codemirror_mode": {
    "name": "ipython",
    "version": 3
   },
   "file_extension": ".py",
   "mimetype": "text/x-python",
   "name": "python",
   "nbconvert_exporter": "python",
   "pygments_lexer": "ipython3",
   "version": "3.4.5"
  }
 },
 "nbformat": 4,
 "nbformat_minor": 0
}
