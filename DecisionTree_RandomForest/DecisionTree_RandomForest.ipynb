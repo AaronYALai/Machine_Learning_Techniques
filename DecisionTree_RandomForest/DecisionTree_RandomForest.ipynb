{
 "cells": [
  {
   "cell_type": "code",
   "execution_count": 1,
   "metadata": {
    "collapsed": true
   },
   "outputs": [],
   "source": [
    "import numpy as np\n",
    "import pandas as pd\n",
    "import time"
   ]
  },
  {
   "cell_type": "code",
   "execution_count": 2,
   "metadata": {
    "collapsed": false
   },
   "outputs": [
    {
     "data": {
      "text/html": [
       "<div>\n",
       "<table border=\"1\" class=\"dataframe\">\n",
       "  <thead>\n",
       "    <tr style=\"text-align: right;\">\n",
       "      <th></th>\n",
       "      <th>0</th>\n",
       "      <th>1</th>\n",
       "      <th>y</th>\n",
       "    </tr>\n",
       "  </thead>\n",
       "  <tbody>\n",
       "    <tr>\n",
       "      <th>0</th>\n",
       "      <td>0.757222</td>\n",
       "      <td>0.633831</td>\n",
       "      <td>-1</td>\n",
       "    </tr>\n",
       "    <tr>\n",
       "      <th>1</th>\n",
       "      <td>0.847382</td>\n",
       "      <td>0.281581</td>\n",
       "      <td>-1</td>\n",
       "    </tr>\n",
       "    <tr>\n",
       "      <th>2</th>\n",
       "      <td>0.249310</td>\n",
       "      <td>0.618635</td>\n",
       "      <td>1</td>\n",
       "    </tr>\n",
       "    <tr>\n",
       "      <th>3</th>\n",
       "      <td>0.538526</td>\n",
       "      <td>0.144259</td>\n",
       "      <td>-1</td>\n",
       "    </tr>\n",
       "    <tr>\n",
       "      <th>4</th>\n",
       "      <td>0.474435</td>\n",
       "      <td>0.414558</td>\n",
       "      <td>-1</td>\n",
       "    </tr>\n",
       "  </tbody>\n",
       "</table>\n",
       "</div>"
      ],
      "text/plain": [
       "          0         1  y\n",
       "0  0.757222  0.633831 -1\n",
       "1  0.847382  0.281581 -1\n",
       "2  0.249310  0.618635  1\n",
       "3  0.538526  0.144259 -1\n",
       "4  0.474435  0.414558 -1"
      ]
     },
     "execution_count": 2,
     "metadata": {},
     "output_type": "execute_result"
    }
   ],
   "source": [
    "Train = pd.read_csv('hw3_train.dat',sep=' ',header=None,names=[0,1,'y'])\n",
    "Train.head()"
   ]
  },
  {
   "cell_type": "code",
   "execution_count": 3,
   "metadata": {
    "collapsed": false
   },
   "outputs": [
    {
     "data": {
      "text/html": [
       "<div>\n",
       "<table border=\"1\" class=\"dataframe\">\n",
       "  <thead>\n",
       "    <tr style=\"text-align: right;\">\n",
       "      <th></th>\n",
       "      <th>0</th>\n",
       "      <th>1</th>\n",
       "      <th>y</th>\n",
       "    </tr>\n",
       "  </thead>\n",
       "  <tbody>\n",
       "    <tr>\n",
       "      <th>0</th>\n",
       "      <td>0.984250</td>\n",
       "      <td>0.712610</td>\n",
       "      <td>-1</td>\n",
       "    </tr>\n",
       "    <tr>\n",
       "      <th>1</th>\n",
       "      <td>0.901491</td>\n",
       "      <td>0.462824</td>\n",
       "      <td>-1</td>\n",
       "    </tr>\n",
       "    <tr>\n",
       "      <th>2</th>\n",
       "      <td>0.872418</td>\n",
       "      <td>0.365547</td>\n",
       "      <td>-1</td>\n",
       "    </tr>\n",
       "    <tr>\n",
       "      <th>3</th>\n",
       "      <td>0.810913</td>\n",
       "      <td>0.058338</td>\n",
       "      <td>-1</td>\n",
       "    </tr>\n",
       "    <tr>\n",
       "      <th>4</th>\n",
       "      <td>0.577230</td>\n",
       "      <td>0.203007</td>\n",
       "      <td>-1</td>\n",
       "    </tr>\n",
       "  </tbody>\n",
       "</table>\n",
       "</div>"
      ],
      "text/plain": [
       "          0         1  y\n",
       "0  0.984250  0.712610 -1\n",
       "1  0.901491  0.462824 -1\n",
       "2  0.872418  0.365547 -1\n",
       "3  0.810913  0.058338 -1\n",
       "4  0.577230  0.203007 -1"
      ]
     },
     "execution_count": 3,
     "metadata": {},
     "output_type": "execute_result"
    }
   ],
   "source": [
    "Test = pd.read_csv('hw3_test.dat',sep=' ',header=None,names=[0,1,'y'])\n",
    "Test.head()"
   ]
  },
  {
   "cell_type": "code",
   "execution_count": 4,
   "metadata": {
    "collapsed": true
   },
   "outputs": [],
   "source": [
    "#Decision Tree(C&RT) with Gini Impurity\n",
    "class DTree(object):\n",
    "    def __init__(self, d=2): \n",
    "        self.dim = d       #feature dimension of the input\n",
    "        self.Branch = {}   #Record where and how to branch\n",
    "        self.Value = {}    #Record the predict values at leaves\n",
    "\n",
    "    def build_tree(self,df,layer=0,side=0,depth=100): #Can use depth to prune the tree\n",
    "        \"\"\"Build the decision tree by recursively branching by Gini impurity\"\"\" \n",
    "        if len(set(df.y))==1:   #Cannot be branched anymore\n",
    "            self.Value[(layer,side)] = df.y.values[0]\n",
    "        elif layer >= depth:    #Depth reaches the limit\n",
    "            self.Value[(layer,side)] = 2*(sum(df.y.values)>=0)-1\n",
    "        else:\n",
    "            best_d, best_val = self.branching(df,layer,side)\n",
    "            self.build_tree(df[df[best_d]>=best_val],layer+1,2*side,depth)  #Left hand side\n",
    "            self.build_tree(df[df[best_d]<best_val],layer+1,2*side+1,depth) #Right hand side\n",
    "\n",
    "    def branching(self,df,layer,side):\n",
    "        \"\"\"find the value of i-th feature for the best branching\"\"\"     \n",
    "        min_err = 1  \n",
    "        for i in range(self.dim):\n",
    "            ddf = df.sort_values(i)\n",
    "            Y = ddf.y.values\n",
    "            for j in range(1,len(ddf)): \n",
    "                err = self.impurity(Y,j)\n",
    "                if err < min_err:\n",
    "                    best_d, best_val, min_err = i, ddf.iloc[j][i], err\n",
    "        self.Branch[(layer,side)] = best_d, best_val  #Record the best branching parameters at this node\n",
    "        return best_d, best_val\n",
    "    \n",
    "    def impurity(self,Y,j):\n",
    "        \"\"\"Gini impurity for binary classification\"\"\"\n",
    "        if Y[j] == Y[j-1]: #Neglect repeated entries\n",
    "            return 1\n",
    "        Y1 = sum(Y[:j]); Y2 = sum(Y[j:]); N = len(Y)\n",
    "        T1 = j**2 - (Y1)**2\n",
    "        T2 = (N-j)**2 - (Y2)**2\n",
    "        return (T1/j + T2/(N-j))/N\n",
    "    \n",
    "    def predict(self,X,layer=0,side=0):\n",
    "        \"\"\"Predict which class the input belongs to by recursively traverse down the tree\"\"\"\n",
    "        if (layer,side) in self.Value:\n",
    "            return self.Value[(layer,side)]\n",
    "        else:\n",
    "            branch_d, branch_val = self.Branch[(layer,side)]\n",
    "            C = 0 if X[branch_d] >= branch_val else 1\n",
    "            return self.predict(X,layer+1,2*side+C)"
   ]
  },
  {
   "cell_type": "code",
   "execution_count": 5,
   "metadata": {
    "collapsed": false,
    "scrolled": true
   },
   "outputs": [
    {
     "name": "stdout",
     "output_type": "stream",
     "text": [
      "Train on 1 fully-grown Decision Tree.\n",
      "Branches:\n",
      "((0, 0), (1, 0.63383100000000003))\n",
      "((1, 0), (0, 0.89615300000000009))\n",
      "((1, 1), (0, 0.24362500000000001))\n",
      "((2, 2), (0, 0.54448999999999992))\n",
      "((2, 3), (1, 0.178643))\n",
      "((3, 4), (1, 0.290269))\n",
      "((3, 5), (1, 0.41455799999999998))\n",
      "((4, 9), (1, 0.28158099999999997))\n",
      "((4, 10), (0, 0.27219299999999996))\n",
      "((4, 11), (0, 0.53852600000000006))\n",
      "Accuracy on Train set: 100.000 %\n",
      "Accuracy on Test set: 90.600 %\n",
      "Using 0.009 seconds\n"
     ]
    }
   ],
   "source": [
    "Tree = DTree()\n",
    "Tree.build_tree(Train)\n",
    "Tree_Start = time.clock()\n",
    "print(\"Train on 1 fully-grown Decision Tree.\\nBranches:\")\n",
    "for k in sorted(Tree.Branch.items()):\n",
    "    print(k)\n",
    "print(\"Accuracy on Train set: %.3f %%\"%(sum([Tree.predict(X) for X in Train[[0,1]].values]==Train.y)*100/len(Train)))\n",
    "print(\"Accuracy on Test set: %.3f %%\"%(sum([Tree.predict(X) for X in Test[[0,1]].values]==Test.y)*100/len(Test)))\n",
    "print(\"Using %.3f seconds\"%(time.clock()-Tree_Start))"
   ]
  },
  {
   "cell_type": "code",
   "execution_count": 6,
   "metadata": {
    "collapsed": false,
    "scrolled": true
   },
   "outputs": [],
   "source": [
    "#Random Forest inherits C&RT decision tree\n",
    "class Random_Forest(DTree):\n",
    "    def __init__(self, d=2):\n",
    "        self.dim = d\n",
    "        self.Collect = {}  #Collection of Decision Trees\n",
    "    \n",
    "    def build_forest(self,df,num=100,depth=100):\n",
    "        \"\"\"Train decision trees on many bootstrapped datasets\"\"\"\n",
    "        N = len(df)\n",
    "        for i in range(num):\n",
    "            Tree = DTree(self.dim)\n",
    "            Tree.build_tree(self.Bootstrap(df,N),depth=depth)\n",
    "            self.Collect[i] = Tree\n",
    "    \n",
    "    def Bootstrap(self,df,N):\n",
    "        \"\"\"Bootstrapping with the size the same as the original dataset\"\"\"\n",
    "        return df.sample(N,replace=True)\n",
    "    \n",
    "    def predict(self,X):\n",
    "        \"\"\"Uniform voting to determine which class the input belongs to\"\"\"\n",
    "        s = sum([self.Collect[i].predict(X) for i in range(len(self.Collect))])\n",
    "        return 1 if s >= 0 else -1"
   ]
  },
  {
   "cell_type": "code",
   "execution_count": 7,
   "metadata": {
    "collapsed": false
   },
   "outputs": [
    {
     "name": "stdout",
     "output_type": "stream",
     "text": [
      "Train on 1 Random Forest with 300 trees.\n",
      "Accuracy on Train set: 100.000 %\n",
      "Accuracy on Test set: 92.200 %\n",
      "Using 9.060 seconds\n"
     ]
    }
   ],
   "source": [
    "print(\"Train on 1 Random Forest with 300 trees.\")\n",
    "Forest_Start = time.clock()\n",
    "RF = Random_Forest()\n",
    "RF.build_forest(Train,300)\n",
    "print(\"Accuracy on Train set: %.3f %%\"%(sum([RF.predict(X) for X in Train[[0,1]].values]==Train.y)*100/len(Train)))\n",
    "print(\"Accuracy on Test set: %.3f %%\"%(sum([RF.predict(X) for X in Test[[0,1]].values]==Test.y)*100/len(Test)))\n",
    "print(\"Using %.3f seconds\"%(time.clock()-Forest_Start))"
   ]
  },
  {
   "cell_type": "code",
   "execution_count": 8,
   "metadata": {
    "collapsed": false
   },
   "outputs": [
    {
     "name": "stdout",
     "output_type": "stream",
     "text": [
      "Train 100 Forests to get averaged accuracy.\n",
      "Accuracy on Train set: 100.000 %\n",
      "Accuracy on Test set: 92.314 %\n",
      "Using 886.991 seconds\n"
     ]
    }
   ],
   "source": [
    "print(\"Train 100 Forests to get averaged accuracy.\")\n",
    "Forests_Start = time.clock()\n",
    "\n",
    "Train_Accu = []; Test_Accu = []\n",
    "N_Train = len(Train); N_Test = len(Test)\n",
    "for i in range(100):\n",
    "    RF = Random_Forest()\n",
    "    RF.build_forest(Train,300)\n",
    "    Train_Accu.append(sum([RF.predict(X) for X in Train[[0,1]].values]==Train.y)*100/N_Train)\n",
    "    Test_Accu.append(sum([RF.predict(X) for X in Test[[0,1]].values]==Test.y)*100/N_Test)\n",
    "    \n",
    "print(\"Accuracy on Train set: %.3f %%\"%(np.mean(Train_Accu)))\n",
    "print(\"Accuracy on Test set: %.3f %%\"%(np.mean(Test_Accu)))\n",
    "print(\"Using %.3f seconds\"%(time.clock()-Forests_Start))"
   ]
  },
  {
   "cell_type": "code",
   "execution_count": 9,
   "metadata": {
    "collapsed": false
   },
   "outputs": [
    {
     "name": "stdout",
     "output_type": "stream",
     "text": [
      "Get averaged accuracy on 100 Forests whose trees have only 1 branch(Pruned).\n",
      "Accuracy on Train set: 88.080 %\n",
      "Accuracy on Test set: 84.857 %\n",
      "Using 323.463 seconds\n"
     ]
    }
   ],
   "source": [
    "print(\"Get averaged accuracy on 100 Forests whose trees have only 1 branch(Pruned).\")\n",
    "Pruned_Forests_Start = time.clock()\n",
    "\n",
    "Train_Accu = []; Test_Accu = []\n",
    "N_Train = len(Train); N_Test = len(Test)\n",
    "for i in range(100):\n",
    "    RF = Random_Forest()\n",
    "    RF.build_forest(Train,300,1)\n",
    "    Train_Accu.append(sum([RF.predict(X) for X in Train[[0,1]].values]==Train.y)*100/N_Train)\n",
    "    Test_Accu.append(sum([RF.predict(X) for X in Test[[0,1]].values]==Test.y)*100/N_Test)\n",
    "    \n",
    "print(\"Accuracy on Train set: %.3f %%\"%(np.mean(Train_Accu)))\n",
    "print(\"Accuracy on Test set: %.3f %%\"%(np.mean(Test_Accu)))\n",
    "print(\"Using %.3f seconds\"%(time.clock()-Pruned_Forests_Start))"
   ]
  },
  {
   "cell_type": "code",
   "execution_count": null,
   "metadata": {
    "collapsed": true
   },
   "outputs": [],
   "source": []
  }
 ],
 "metadata": {
  "kernelspec": {
   "display_name": "Python 3",
   "language": "python",
   "name": "python3"
  },
  "language_info": {
   "codemirror_mode": {
    "name": "ipython",
    "version": 3
   },
   "file_extension": ".py",
   "mimetype": "text/x-python",
   "name": "python",
   "nbconvert_exporter": "python",
   "pygments_lexer": "ipython3",
   "version": "3.4.3"
  }
 },
 "nbformat": 4,
 "nbformat_minor": 0
}
