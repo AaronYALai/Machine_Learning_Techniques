{
 "cells": [
  {
   "cell_type": "code",
   "execution_count": 1,
   "metadata": {
    "collapsed": true
   },
   "outputs": [],
   "source": [
    "import pandas as pd\n",
    "import time"
   ]
  },
  {
   "cell_type": "code",
   "execution_count": 2,
   "metadata": {
    "collapsed": true
   },
   "outputs": [],
   "source": [
    "# Decision Tree(C&RT) with Gini Impurity\n",
    "\n",
    "class DTree(object):\n",
    "    def __init__(self, d=2):\n",
    "        # feature dimension of the input\n",
    "        self.dim = d\n",
    "        # Record where and how to branch\n",
    "        self.Branch = {}\n",
    "        # Record the predict values at leaves\n",
    "        self.Value = {}\n",
    "\n",
    "    def build_tree(self, df, layer=0, side=0, max_depth=100):\n",
    "        \"\"\"Build the decision tree by recursively branching by Gini impurity\"\"\"\n",
    "        # Cannot be branched anymore\n",
    "        if len(set(df.y)) == 1:\n",
    "            self.Value[(layer, side)] = df.y.values[0]\n",
    "        # Depth reaches the limit\n",
    "        elif layer >= max_depth:\n",
    "            self.Value[(layer, side)] = 2 * (sum(df.y.values) >= 0) - 1\n",
    "        else:\n",
    "            best_d, best_val = self.branching(df, layer, side)\n",
    "            # Left hand side\n",
    "            p = (df[df[best_d] >= best_val], layer + 1, 2 * side, max_depth)\n",
    "            self.build_tree(*p)\n",
    "            # Right hand side\n",
    "            p = (df[df[best_d] < best_val], layer + 1, 2 * side + 1, max_depth)\n",
    "            self.build_tree(*p)\n",
    "\n",
    "    def branching(self, df, layer, side):\n",
    "        \"\"\"find the value of i-th feature for the best branching\"\"\"\n",
    "        min_err = 1\n",
    "        # Search for the best cut\n",
    "        for i in range(self.dim):\n",
    "            ddf = df.sort_values(i)\n",
    "            Y = ddf.y.values\n",
    "\n",
    "            for j in range(1, len(ddf)):\n",
    "                err = self.impurity(Y, j)\n",
    "                if err < min_err:\n",
    "                    best_d, best_val, min_err = i, ddf.iloc[j][i], err\n",
    "\n",
    "        # Record the best branching parameters at this node\n",
    "        self.Branch[(layer, side)] = best_d, best_val\n",
    "        return best_d, best_val\n",
    "\n",
    "    def impurity(self, Y, j):\n",
    "        \"\"\"Gini impurity for binary classification\"\"\"\n",
    "        # Neglect repeated entries\n",
    "        if Y[j] == Y[j-1]:\n",
    "            return 1\n",
    "\n",
    "        Y1 = sum(Y[:j])\n",
    "        Y2 = sum(Y[j:])\n",
    "        N = len(Y)\n",
    "        T1 = j**2 - (Y1)**2\n",
    "        T2 = (N - j)**2 - (Y2)**2\n",
    "\n",
    "        return (T1 / j + T2 / (N - j)) / N\n",
    "\n",
    "    def predict(self, X, layer=0, side=0):\n",
    "        \"\"\"recursively traversing: Predict which class the input belongs to\"\"\"\n",
    "        if (layer, side) in self.Value:\n",
    "            return self.Value[(layer, side)]\n",
    "        else:\n",
    "            branch_d, branch_val = self.Branch[(layer, side)]\n",
    "            C = 0 if X[branch_d] >= branch_val else 1\n",
    "            return self.predict(X, layer + 1, 2 * side + C)"
   ]
  },
  {
   "cell_type": "code",
   "execution_count": 3,
   "metadata": {
    "collapsed": false
   },
   "outputs": [
    {
     "data": {
      "text/html": [
       "<div>\n",
       "<table border=\"1\" class=\"dataframe\">\n",
       "  <thead>\n",
       "    <tr style=\"text-align: right;\">\n",
       "      <th></th>\n",
       "      <th>0</th>\n",
       "      <th>1</th>\n",
       "      <th>y</th>\n",
       "    </tr>\n",
       "  </thead>\n",
       "  <tbody>\n",
       "    <tr>\n",
       "      <th>0</th>\n",
       "      <td>0.757222</td>\n",
       "      <td>0.633831</td>\n",
       "      <td>-1</td>\n",
       "    </tr>\n",
       "    <tr>\n",
       "      <th>1</th>\n",
       "      <td>0.847382</td>\n",
       "      <td>0.281581</td>\n",
       "      <td>-1</td>\n",
       "    </tr>\n",
       "    <tr>\n",
       "      <th>2</th>\n",
       "      <td>0.249310</td>\n",
       "      <td>0.618635</td>\n",
       "      <td>1</td>\n",
       "    </tr>\n",
       "    <tr>\n",
       "      <th>3</th>\n",
       "      <td>0.538526</td>\n",
       "      <td>0.144259</td>\n",
       "      <td>-1</td>\n",
       "    </tr>\n",
       "    <tr>\n",
       "      <th>4</th>\n",
       "      <td>0.474435</td>\n",
       "      <td>0.414558</td>\n",
       "      <td>-1</td>\n",
       "    </tr>\n",
       "  </tbody>\n",
       "</table>\n",
       "</div>"
      ],
      "text/plain": [
       "          0         1  y\n",
       "0  0.757222  0.633831 -1\n",
       "1  0.847382  0.281581 -1\n",
       "2  0.249310  0.618635  1\n",
       "3  0.538526  0.144259 -1\n",
       "4  0.474435  0.414558 -1"
      ]
     },
     "execution_count": 3,
     "metadata": {},
     "output_type": "execute_result"
    }
   ],
   "source": [
    "# Loading Data\n",
    "train_data = pd.read_csv('Data/hw3_train.dat', sep=' ', header=None, names=[0, 1, 'y'])\n",
    "train_data.head()"
   ]
  },
  {
   "cell_type": "code",
   "execution_count": 4,
   "metadata": {
    "collapsed": false
   },
   "outputs": [
    {
     "data": {
      "text/html": [
       "<div>\n",
       "<table border=\"1\" class=\"dataframe\">\n",
       "  <thead>\n",
       "    <tr style=\"text-align: right;\">\n",
       "      <th></th>\n",
       "      <th>0</th>\n",
       "      <th>1</th>\n",
       "      <th>y</th>\n",
       "    </tr>\n",
       "  </thead>\n",
       "  <tbody>\n",
       "    <tr>\n",
       "      <th>0</th>\n",
       "      <td>0.984250</td>\n",
       "      <td>0.712610</td>\n",
       "      <td>-1</td>\n",
       "    </tr>\n",
       "    <tr>\n",
       "      <th>1</th>\n",
       "      <td>0.901491</td>\n",
       "      <td>0.462824</td>\n",
       "      <td>-1</td>\n",
       "    </tr>\n",
       "    <tr>\n",
       "      <th>2</th>\n",
       "      <td>0.872418</td>\n",
       "      <td>0.365547</td>\n",
       "      <td>-1</td>\n",
       "    </tr>\n",
       "    <tr>\n",
       "      <th>3</th>\n",
       "      <td>0.810913</td>\n",
       "      <td>0.058338</td>\n",
       "      <td>-1</td>\n",
       "    </tr>\n",
       "    <tr>\n",
       "      <th>4</th>\n",
       "      <td>0.577230</td>\n",
       "      <td>0.203007</td>\n",
       "      <td>-1</td>\n",
       "    </tr>\n",
       "  </tbody>\n",
       "</table>\n",
       "</div>"
      ],
      "text/plain": [
       "          0         1  y\n",
       "0  0.984250  0.712610 -1\n",
       "1  0.901491  0.462824 -1\n",
       "2  0.872418  0.365547 -1\n",
       "3  0.810913  0.058338 -1\n",
       "4  0.577230  0.203007 -1"
      ]
     },
     "execution_count": 4,
     "metadata": {},
     "output_type": "execute_result"
    }
   ],
   "source": [
    "test_data = pd.read_csv('Data/hw3_test.dat', sep=' ', header=None, names=[0, 1, 'y'])\n",
    "test_data.head()"
   ]
  },
  {
   "cell_type": "code",
   "execution_count": 5,
   "metadata": {
    "collapsed": false,
    "scrolled": true
   },
   "outputs": [
    {
     "name": "stdout",
     "output_type": "stream",
     "text": [
      "Train on 1 fully-grown Decision Tree.\n",
      "Branches:\n",
      "\t ((0, 0), (1, 0.63383100000000003))\n",
      "\t ((1, 0), (0, 0.89615300000000009))\n",
      "\t ((1, 1), (0, 0.24362500000000001))\n",
      "\t ((2, 2), (0, 0.54448999999999992))\n",
      "\t ((2, 3), (1, 0.178643))\n",
      "\t ((3, 4), (1, 0.290269))\n",
      "\t ((3, 5), (1, 0.41455799999999998))\n",
      "\t ((4, 9), (1, 0.28158099999999997))\n",
      "\t ((4, 10), (0, 0.27219299999999996))\n",
      "\t ((4, 11), (0, 0.53852600000000006))\n",
      "\tAccuracy on Train set: 100.000 %\n",
      "\tAccuracy on Test set: 90.600 %\n",
      "Using 0.015 seconds\n"
     ]
    }
   ],
   "source": [
    "# Train on 1 decision tree\n",
    "\n",
    "Tree = DTree()\n",
    "Tree.build_tree(train_data)\n",
    "Tree_Start = time.clock()\n",
    "\n",
    "print(\"Train on 1 fully-grown Decision Tree.\\nBranches:\")\n",
    "for k in sorted(Tree.Branch.items()):\n",
    "    print('\\t', k)\n",
    "\n",
    "train_pred = [Tree.predict(X) for X in train_data[[0, 1]].values]\n",
    "train_accu = sum(train_pred == train_data.y) * 100 / len(train_data)\n",
    "print(\"\\tAccuracy on Train set: %.3f %%\" % train_accu)\n",
    "\n",
    "test_pred = [Tree.predict(X) for X in test_data[[0, 1]].values]\n",
    "test_accu = sum(test_pred == test_data.y) * 100 / len(test_data)\n",
    "print(\"\\tAccuracy on Test set: %.3f %%\" % test_accu)\n",
    "print(\"Using %.3f seconds\" % (time.clock() - Tree_Start))"
   ]
  },
  {
   "cell_type": "code",
   "execution_count": null,
   "metadata": {
    "collapsed": true
   },
   "outputs": [],
   "source": []
  }
 ],
 "metadata": {
  "kernelspec": {
   "display_name": "Python 3",
   "language": "python",
   "name": "python3"
  },
  "language_info": {
   "codemirror_mode": {
    "name": "ipython",
    "version": 3
   },
   "file_extension": ".py",
   "mimetype": "text/x-python",
   "name": "python",
   "nbconvert_exporter": "python",
   "pygments_lexer": "ipython3",
   "version": "3.4.5"
  }
 },
 "nbformat": 4,
 "nbformat_minor": 0
}
