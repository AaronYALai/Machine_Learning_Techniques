{
 "cells": [
  {
   "cell_type": "code",
   "execution_count": 1,
   "metadata": {
    "collapsed": true
   },
   "outputs": [],
   "source": [
    "import numpy as np\n",
    "import pandas as pd\n",
    "import time"
   ]
  },
  {
   "cell_type": "code",
   "execution_count": 2,
   "metadata": {
    "collapsed": true
   },
   "outputs": [],
   "source": [
    "class kNN(object):\n",
    "    \"\"\"Uniform voting by k nearest neighbors as predictions\"\"\"\n",
    "    def __init__(self,k):\n",
    "        self.k = k\n",
    "        \n",
    "    def train(self,X,y):\n",
    "        self.Xtrain = X\n",
    "        self.ytrain = y\n",
    "        \n",
    "    def predict(self,Xtest):\n",
    "        \"\"\"Find the k nearest neighbor of the input and do uniform voting\"\"\"\n",
    "        prediction = []\n",
    "        for xtest in Xtest:\n",
    "            Ind_Dist = [(float(\"inf\"),0)]*self.k  #initialize k nearest neighbors\n",
    "            for ind,xtrain in enumerate(self.Xtrain):\n",
    "                dist = np.sum((xtest-xtrain)**2)\n",
    "                if dist <= Ind_Dist[-1][0]:\n",
    "                    Ind_Dist[-1] = (dist,ind)\n",
    "                    Ind_Dist.sort()\n",
    "            predict = 1 if sum([self.ytrain[ind] for _,ind in Ind_Dist]) >= 0 else -1\n",
    "            prediction.append(predict)\n",
    "        return np.array(prediction)"
   ]
  },
  {
   "cell_type": "code",
   "execution_count": 3,
   "metadata": {
    "collapsed": false
   },
   "outputs": [],
   "source": [
    "Train = pd.read_csv('Data/hw4_knn_train.dat',sep=' ',header=None)\n",
    "Test = pd.read_csv('Data/hw4_knn_test.dat',sep=' ',header=None)"
   ]
  },
  {
   "cell_type": "code",
   "execution_count": 4,
   "metadata": {
    "collapsed": false
   },
   "outputs": [
    {
     "name": "stdout",
     "output_type": "stream",
     "text": [
      "Using k-nearest-neighbor with k = 5\n",
      "Error rate on training set: 16.00 %\n",
      "Error rate on test set: 31.60 %\n",
      "Using 0.65 seconds\n"
     ]
    }
   ],
   "source": [
    "start = time.clock()\n",
    "\n",
    "K = 5\n",
    "one_neighbor = kNN(K)\n",
    "one_neighbor.train(Train[list(range(9))].values,Train[9].values)\n",
    "print('Using k-nearest-neighbor with k = %d'%K)\n",
    "\n",
    "Predict = one_neighbor.predict(Train[list(range(9))].values)\n",
    "Ein = sum(Predict!=Train[9].values)/len(Predict)\n",
    "print('Error rate on training set: %.2f %%'%(100*Ein))\n",
    "\n",
    "Predict = one_neighbor.predict(Test[list(range(9))].values)\n",
    "Eout = sum(Predict!=Test[9].values)/len(Predict)\n",
    "print('Error rate on test set: %.2f %%'%(100*Eout))\n",
    "print('Using %.2f seconds'%(time.clock()-start))"
   ]
  },
  {
   "cell_type": "code",
   "execution_count": null,
   "metadata": {
    "collapsed": true
   },
   "outputs": [],
   "source": []
  }
 ],
 "metadata": {
  "kernelspec": {
   "display_name": "Python 3",
   "language": "python",
   "name": "python3"
  },
  "language_info": {
   "codemirror_mode": {
    "name": "ipython",
    "version": 3
   },
   "file_extension": ".py",
   "mimetype": "text/x-python",
   "name": "python",
   "nbconvert_exporter": "python",
   "pygments_lexer": "ipython3",
   "version": "3.4.3"
  }
 },
 "nbformat": 4,
 "nbformat_minor": 0
}
