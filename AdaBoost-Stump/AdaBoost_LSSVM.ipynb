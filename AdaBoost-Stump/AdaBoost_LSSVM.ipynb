{
 "cells": [
  {
   "cell_type": "code",
   "execution_count": 1,
   "metadata": {
    "collapsed": true
   },
   "outputs": [],
   "source": [
    "import numpy as np\n",
    "import pandas as pd\n",
    "import time"
   ]
  },
  {
   "cell_type": "markdown",
   "metadata": {},
   "source": [
    "### AdaBoost-Stump"
   ]
  },
  {
   "cell_type": "code",
   "execution_count": 2,
   "metadata": {
    "collapsed": false
   },
   "outputs": [
    {
     "data": {
      "text/html": [
       "<div>\n",
       "<table border=\"1\" class=\"dataframe\">\n",
       "  <thead>\n",
       "    <tr style=\"text-align: right;\">\n",
       "      <th></th>\n",
       "      <th>0</th>\n",
       "      <th>1</th>\n",
       "      <th>2</th>\n",
       "    </tr>\n",
       "  </thead>\n",
       "  <tbody>\n",
       "    <tr>\n",
       "      <th>0</th>\n",
       "      <td>0.757222</td>\n",
       "      <td>0.633831</td>\n",
       "      <td>-1</td>\n",
       "    </tr>\n",
       "    <tr>\n",
       "      <th>1</th>\n",
       "      <td>0.847382</td>\n",
       "      <td>0.281581</td>\n",
       "      <td>-1</td>\n",
       "    </tr>\n",
       "    <tr>\n",
       "      <th>2</th>\n",
       "      <td>0.249310</td>\n",
       "      <td>0.618635</td>\n",
       "      <td>1</td>\n",
       "    </tr>\n",
       "    <tr>\n",
       "      <th>3</th>\n",
       "      <td>0.538526</td>\n",
       "      <td>0.144259</td>\n",
       "      <td>-1</td>\n",
       "    </tr>\n",
       "    <tr>\n",
       "      <th>4</th>\n",
       "      <td>0.474435</td>\n",
       "      <td>0.414558</td>\n",
       "      <td>-1</td>\n",
       "    </tr>\n",
       "  </tbody>\n",
       "</table>\n",
       "</div>"
      ],
      "text/plain": [
       "          0         1  2\n",
       "0  0.757222  0.633831 -1\n",
       "1  0.847382  0.281581 -1\n",
       "2  0.249310  0.618635  1\n",
       "3  0.538526  0.144259 -1\n",
       "4  0.474435  0.414558 -1"
      ]
     },
     "execution_count": 2,
     "metadata": {},
     "output_type": "execute_result"
    }
   ],
   "source": [
    "#Training set: https://d396qusza40orc.cloudfront.net/ntumltwo/hw2_data/hw2_adaboost_train.dat\n",
    "#Testing set: https://d396qusza40orc.cloudfront.net/ntumltwo/hw2_data/hw2_adaboost_test.dat\n",
    "Train = pd.read_csv('hw2_adaboost_train.dat',sep=' ',header=None)\n",
    "Train.head()"
   ]
  },
  {
   "cell_type": "code",
   "execution_count": 3,
   "metadata": {
    "collapsed": false,
    "scrolled": true
   },
   "outputs": [],
   "source": [
    "def memo(f): \n",
    "    \"\"\"Memoization decorator, Used to accelerate the retrieval\"\"\"\n",
    "    cache = {}\n",
    "    def _f(*args):\n",
    "        try:\n",
    "            return cache[args]\n",
    "        except KeyError:\n",
    "            cache[args] = result = f(*args)\n",
    "            return result\n",
    "        except TypeError: #Some elements of args unhashable\n",
    "            return f(args)\n",
    "    _f.cache = cache\n",
    "    return _f\n",
    "\n",
    "@memo\n",
    "def stump(s,i,t):\n",
    "    \"\"\"Decision stump for given direction s, dimension i, and threshold t\"\"\"\n",
    "    return Train.apply(lambda x: s*((x[i] > t)*2-1),axis=1)\n",
    "\n",
    "def Accuracy(s,i,theta,w):\n",
    "    \"\"\"Calculate accuracy on training set for given decision stump\"\"\"\n",
    "    index = stump(s,i,theta)==Train[2]\n",
    "    return (np.dot(np.array(index*1),w),index)\n",
    "\n",
    "def make_thresholds(L):\n",
    "    \"\"\"Given values of one dimension, let midpoints as thresholds\"\"\"\n",
    "    LS = [min(L)-1]+sorted(L)\n",
    "    return [(LS[i]+LS[i+1])/2 for i in range(len(LS)-1)]\n",
    "\n",
    "def AdaBoost_Training(Train,T):\n",
    "    \"\"\"Given training set as a pandas dataframe and the iterations, train an AdaBoost binary classifer\"\"\"\n",
    "    #Initialize weight vector\n",
    "    Train['w'] = np.ones((100,))/100  \n",
    "    alpha = []; g = []; Thr = []\n",
    "\n",
    "    #Compute threshold\n",
    "    for i in range(2):\n",
    "        Thr.append(make_thresholds(Train[i])) \n",
    "\n",
    "    for r in range(T):\n",
    "        Max_Weighted_Accu = 0; index = []; w0 = Train['w'].values\n",
    "        for i in range(2):\n",
    "            for t in Thr[i]:\n",
    "                for s in [1,-1]:\n",
    "                    A,ind = Accuracy(s,i,t,w0)\n",
    "\n",
    "                    if A > Max_Weighted_Accu:\n",
    "                        Max_Weighted_Accu, index = A, ind\n",
    "                        best = s, i, t\n",
    "\n",
    "        Rescale_Factor = np.sqrt(Max_Weighted_Accu/(sum(w0)-Max_Weighted_Accu))\n",
    "        Train['w'][index] /= Rescale_Factor   #Rescaling the weight vector\n",
    "        Train['w'][~index] *= Rescale_Factor\n",
    "        alpha.append(np.log(Rescale_Factor))\n",
    "        g.append(best)\n",
    "        \n",
    "    return g,alpha\n",
    "\n",
    "def Predict_Accu_Train(g,alpha,T):\n",
    "    G = np.zeros((len(Train),))\n",
    "    for i in range(T):\n",
    "        G += np.array(stump(*g[i]))*alpha[i]\n",
    "    return sum(((G>0)*2-1)==Train[2])/len(Train)\n",
    "\n",
    "@memo\n",
    "def predict_stump(s,i,t):\n",
    "    return Test.apply(lambda x: s*((x[i] > t)*2-1),axis=1)\n",
    "\n",
    "def Predict_Accu_Test(g,alpha,T):\n",
    "    G = np.zeros((len(Test),))\n",
    "    for i in range(T):\n",
    "        G += np.array(predict_stump(*g[i]))*alpha[i]\n",
    "    return sum(((G>0)*2-1)==Test[2])/len(Test)"
   ]
  },
  {
   "cell_type": "code",
   "execution_count": 4,
   "metadata": {
    "collapsed": false,
    "scrolled": true
   },
   "outputs": [
    {
     "name": "stdout",
     "output_type": "stream",
     "text": [
      "Done Training, 33.015375 seconds.\n"
     ]
    },
    {
     "name": "stderr",
     "output_type": "stream",
     "text": [
      "/Users/aaronlai/anaconda/lib/python3.4/site-packages/ipykernel/__main__.py:52: SettingWithCopyWarning: \n",
      "A value is trying to be set on a copy of a slice from a DataFrame\n",
      "\n",
      "See the caveats in the documentation: http://pandas.pydata.org/pandas-docs/stable/indexing.html#indexing-view-versus-copy\n",
      "/Users/aaronlai/anaconda/lib/python3.4/site-packages/ipykernel/__main__.py:53: SettingWithCopyWarning: \n",
      "A value is trying to be set on a copy of a slice from a DataFrame\n",
      "\n",
      "See the caveats in the documentation: http://pandas.pydata.org/pandas-docs/stable/indexing.html#indexing-view-versus-copy\n"
     ]
    }
   ],
   "source": [
    "start = time.clock()\n",
    "T = 300\n",
    "g,alpha = AdaBoost_Training(Train,T)\n",
    "print('Done Training, %f seconds.'%(time.clock()-start))"
   ]
  },
  {
   "cell_type": "code",
   "execution_count": 5,
   "metadata": {
    "collapsed": false
   },
   "outputs": [
    {
     "data": {
      "text/html": [
       "<div>\n",
       "<table border=\"1\" class=\"dataframe\">\n",
       "  <thead>\n",
       "    <tr style=\"text-align: right;\">\n",
       "      <th></th>\n",
       "      <th>0</th>\n",
       "      <th>1</th>\n",
       "      <th>2</th>\n",
       "    </tr>\n",
       "  </thead>\n",
       "  <tbody>\n",
       "    <tr>\n",
       "      <th>0</th>\n",
       "      <td>0.984250</td>\n",
       "      <td>0.712610</td>\n",
       "      <td>-1</td>\n",
       "    </tr>\n",
       "    <tr>\n",
       "      <th>1</th>\n",
       "      <td>0.901491</td>\n",
       "      <td>0.462824</td>\n",
       "      <td>-1</td>\n",
       "    </tr>\n",
       "    <tr>\n",
       "      <th>2</th>\n",
       "      <td>0.872418</td>\n",
       "      <td>0.365547</td>\n",
       "      <td>-1</td>\n",
       "    </tr>\n",
       "    <tr>\n",
       "      <th>3</th>\n",
       "      <td>0.810913</td>\n",
       "      <td>0.058338</td>\n",
       "      <td>-1</td>\n",
       "    </tr>\n",
       "    <tr>\n",
       "      <th>4</th>\n",
       "      <td>0.577230</td>\n",
       "      <td>0.203007</td>\n",
       "      <td>-1</td>\n",
       "    </tr>\n",
       "  </tbody>\n",
       "</table>\n",
       "</div>"
      ],
      "text/plain": [
       "          0         1  2\n",
       "0  0.984250  0.712610 -1\n",
       "1  0.901491  0.462824 -1\n",
       "2  0.872418  0.365547 -1\n",
       "3  0.810913  0.058338 -1\n",
       "4  0.577230  0.203007 -1"
      ]
     },
     "execution_count": 5,
     "metadata": {},
     "output_type": "execute_result"
    }
   ],
   "source": [
    "Test = pd.read_csv('hw2_adaboost_test.dat',sep=' ',header=None)\n",
    "Test.head()"
   ]
  },
  {
   "cell_type": "code",
   "execution_count": 6,
   "metadata": {
    "collapsed": false,
    "scrolled": true
   },
   "outputs": [
    {
     "name": "stdout",
     "output_type": "stream",
     "text": [
      "Accuracy on Training set: 100.00 %\n",
      "Accuracy on Testing set: 86.80 %\n"
     ]
    },
    {
     "name": "stderr",
     "output_type": "stream",
     "text": [
      "/Users/aaronlai/anaconda/lib/python3.4/site-packages/ipykernel/__main__.py:1: DeprecationWarning: using a non-integer number instead of an integer will result in an error in the future\n",
      "  if __name__ == '__main__':\n"
     ]
    }
   ],
   "source": [
    "print('Accuracy on Training set: %.2f %%'%100*Predict_Accu_Train(g,alpha,T))\n",
    "print('Accuracy on Testing set: %.2f %%'%(100*Predict_Accu_Test(g,alpha,T)))"
   ]
  },
  {
   "cell_type": "code",
   "execution_count": 7,
   "metadata": {
    "collapsed": false
   },
   "outputs": [
    {
     "name": "stdout",
     "output_type": "stream",
     "text": [
      "Smallest error rate of all stumps 17.8728 %\n",
      "Accuracy on Testing set of one stump: 71.00 %\n"
     ]
    }
   ],
   "source": [
    "print('Smallest error rate of all stumps %.4f %%' % (100*min(list(map(lambda x:1/(np.exp(2*x)+1),alpha)))))\n",
    "print('Accuracy on Testing set of one stump: %.2f %%'%(sum(predict_stump(*g[0])==Test[2])/10))"
   ]
  },
  {
   "cell_type": "markdown",
   "metadata": {},
   "source": [
    "### Least Square Support Vector Machine(LSSVM)\n",
    "#### Kernel Ridge Regression for Classification"
   ]
  },
  {
   "cell_type": "code",
   "execution_count": 8,
   "metadata": {
    "collapsed": false
   },
   "outputs": [
    {
     "data": {
      "text/html": [
       "<div>\n",
       "<table border=\"1\" class=\"dataframe\">\n",
       "  <thead>\n",
       "    <tr style=\"text-align: right;\">\n",
       "      <th></th>\n",
       "      <th>0</th>\n",
       "      <th>1</th>\n",
       "      <th>2</th>\n",
       "      <th>3</th>\n",
       "      <th>4</th>\n",
       "      <th>5</th>\n",
       "      <th>6</th>\n",
       "      <th>7</th>\n",
       "      <th>8</th>\n",
       "      <th>9</th>\n",
       "      <th>10</th>\n",
       "    </tr>\n",
       "  </thead>\n",
       "  <tbody>\n",
       "    <tr>\n",
       "      <th>0</th>\n",
       "      <td>4.115</td>\n",
       "      <td>5.020</td>\n",
       "      <td>-7.879</td>\n",
       "      <td>-11.780</td>\n",
       "      <td>2.004</td>\n",
       "      <td>-0.353</td>\n",
       "      <td>-0.735</td>\n",
       "      <td>3.561</td>\n",
       "      <td>2.441</td>\n",
       "      <td>-9.822</td>\n",
       "      <td>1</td>\n",
       "    </tr>\n",
       "    <tr>\n",
       "      <th>1</th>\n",
       "      <td>-3.557</td>\n",
       "      <td>0.997</td>\n",
       "      <td>2.932</td>\n",
       "      <td>7.672</td>\n",
       "      <td>5.430</td>\n",
       "      <td>-0.137</td>\n",
       "      <td>1.635</td>\n",
       "      <td>-5.190</td>\n",
       "      <td>-0.394</td>\n",
       "      <td>-7.667</td>\n",
       "      <td>1</td>\n",
       "    </tr>\n",
       "    <tr>\n",
       "      <th>2</th>\n",
       "      <td>6.417</td>\n",
       "      <td>5.878</td>\n",
       "      <td>5.066</td>\n",
       "      <td>-7.209</td>\n",
       "      <td>-6.953</td>\n",
       "      <td>7.639</td>\n",
       "      <td>-2.937</td>\n",
       "      <td>-1.023</td>\n",
       "      <td>3.963</td>\n",
       "      <td>-11.069</td>\n",
       "      <td>1</td>\n",
       "    </tr>\n",
       "    <tr>\n",
       "      <th>3</th>\n",
       "      <td>-2.247</td>\n",
       "      <td>6.532</td>\n",
       "      <td>6.437</td>\n",
       "      <td>2.293</td>\n",
       "      <td>6.302</td>\n",
       "      <td>2.187</td>\n",
       "      <td>3.429</td>\n",
       "      <td>-3.453</td>\n",
       "      <td>9.172</td>\n",
       "      <td>-4.548</td>\n",
       "      <td>1</td>\n",
       "    </tr>\n",
       "    <tr>\n",
       "      <th>4</th>\n",
       "      <td>3.708</td>\n",
       "      <td>5.834</td>\n",
       "      <td>3.676</td>\n",
       "      <td>-4.403</td>\n",
       "      <td>-5.296</td>\n",
       "      <td>9.080</td>\n",
       "      <td>-3.110</td>\n",
       "      <td>-3.294</td>\n",
       "      <td>3.189</td>\n",
       "      <td>-8.510</td>\n",
       "      <td>1</td>\n",
       "    </tr>\n",
       "    <tr>\n",
       "      <th>5</th>\n",
       "      <td>-1.586</td>\n",
       "      <td>1.960</td>\n",
       "      <td>-5.506</td>\n",
       "      <td>-8.767</td>\n",
       "      <td>7.871</td>\n",
       "      <td>0.613</td>\n",
       "      <td>-4.693</td>\n",
       "      <td>4.302</td>\n",
       "      <td>-1.219</td>\n",
       "      <td>-8.478</td>\n",
       "      <td>-1</td>\n",
       "    </tr>\n",
       "    <tr>\n",
       "      <th>6</th>\n",
       "      <td>-4.181</td>\n",
       "      <td>-6.797</td>\n",
       "      <td>-4.187</td>\n",
       "      <td>8.622</td>\n",
       "      <td>0.771</td>\n",
       "      <td>5.851</td>\n",
       "      <td>-3.893</td>\n",
       "      <td>3.779</td>\n",
       "      <td>4.470</td>\n",
       "      <td>-9.433</td>\n",
       "      <td>1</td>\n",
       "    </tr>\n",
       "    <tr>\n",
       "      <th>7</th>\n",
       "      <td>-5.589</td>\n",
       "      <td>-7.010</td>\n",
       "      <td>-5.297</td>\n",
       "      <td>7.329</td>\n",
       "      <td>1.872</td>\n",
       "      <td>3.953</td>\n",
       "      <td>-3.425</td>\n",
       "      <td>3.097</td>\n",
       "      <td>1.677</td>\n",
       "      <td>-11.320</td>\n",
       "      <td>1</td>\n",
       "    </tr>\n",
       "    <tr>\n",
       "      <th>8</th>\n",
       "      <td>8.124</td>\n",
       "      <td>4.813</td>\n",
       "      <td>3.519</td>\n",
       "      <td>-7.539</td>\n",
       "      <td>-4.723</td>\n",
       "      <td>8.129</td>\n",
       "      <td>-5.165</td>\n",
       "      <td>-3.411</td>\n",
       "      <td>3.552</td>\n",
       "      <td>-9.192</td>\n",
       "      <td>-1</td>\n",
       "    </tr>\n",
       "    <tr>\n",
       "      <th>9</th>\n",
       "      <td>-7.536</td>\n",
       "      <td>-0.448</td>\n",
       "      <td>-10.633</td>\n",
       "      <td>3.777</td>\n",
       "      <td>0.728</td>\n",
       "      <td>-1.386</td>\n",
       "      <td>-7.756</td>\n",
       "      <td>8.166</td>\n",
       "      <td>-2.979</td>\n",
       "      <td>0.629</td>\n",
       "      <td>-1</td>\n",
       "    </tr>\n",
       "  </tbody>\n",
       "</table>\n",
       "</div>"
      ],
      "text/plain": [
       "      0      1       2       3      4      5      6      7      8       9   10\n",
       "0  4.115  5.020  -7.879 -11.780  2.004 -0.353 -0.735  3.561  2.441  -9.822   1\n",
       "1 -3.557  0.997   2.932   7.672  5.430 -0.137  1.635 -5.190 -0.394  -7.667   1\n",
       "2  6.417  5.878   5.066  -7.209 -6.953  7.639 -2.937 -1.023  3.963 -11.069   1\n",
       "3 -2.247  6.532   6.437   2.293  6.302  2.187  3.429 -3.453  9.172  -4.548   1\n",
       "4  3.708  5.834   3.676  -4.403 -5.296  9.080 -3.110 -3.294  3.189  -8.510   1\n",
       "5 -1.586  1.960  -5.506  -8.767  7.871  0.613 -4.693  4.302 -1.219  -8.478  -1\n",
       "6 -4.181 -6.797  -4.187   8.622  0.771  5.851 -3.893  3.779  4.470  -9.433   1\n",
       "7 -5.589 -7.010  -5.297   7.329  1.872  3.953 -3.425  3.097  1.677 -11.320   1\n",
       "8  8.124  4.813   3.519  -7.539 -4.723  8.129 -5.165 -3.411  3.552  -9.192  -1\n",
       "9 -7.536 -0.448 -10.633   3.777  0.728 -1.386 -7.756  8.166 -2.979   0.629  -1"
      ]
     },
     "execution_count": 8,
     "metadata": {},
     "output_type": "execute_result"
    }
   ],
   "source": [
    "#Data: https://d396qusza40orc.cloudfront.net/ntumltwo/hw2_data/hw2_lssvm_all.dat\n",
    "#first 400 rows as training set and last 100 rows as testing set\n",
    "LS_Data = pd.read_csv('hw2_lssvm_all.dat',sep=' ',header=None,skipinitialspace=True)\n",
    "LS_Data.head(10)"
   ]
  },
  {
   "cell_type": "code",
   "execution_count": 9,
   "metadata": {
    "collapsed": false
   },
   "outputs": [],
   "source": [
    "Train = LS_Data[:400]\n",
    "Test = LS_Data[400:]"
   ]
  },
  {
   "cell_type": "code",
   "execution_count": 10,
   "metadata": {
    "collapsed": false
   },
   "outputs": [],
   "source": [
    "def memo(f): \n",
    "    \"\"\"Memoization decorator, Used to accelerate the retrieval\"\"\"\n",
    "    cache = {}\n",
    "    def _f(*args):\n",
    "        try:\n",
    "            return cache[args]\n",
    "        except KeyError:\n",
    "            cache[args] = result = f(*args)\n",
    "            return result\n",
    "        except TypeError: #Some elements of args unhashable\n",
    "            return f(args)\n",
    "    _f.cache = cache\n",
    "    return _f\n",
    "\n",
    "def kernel(x1,x2,gamma):\n",
    "    \"\"\"Guassian-RBF kernel\"\"\"\n",
    "    return np.exp(-gamma*sum((x1-x2)**2))\n",
    "\n",
    "def g(beta,gamma,x):\n",
    "    \"\"\"One hypothesis\"\"\"\n",
    "    val = sum([beta[i]*kernel(X[i],x,gamma) for i in range(len(beta))])\n",
    "    return 1 if val >= 0 else -1\n",
    "\n",
    "@memo\n",
    "def kernel_matrix(N,gamma):\n",
    "    \"\"\"Compute the kernel matrix K(xi,xj)\"\"\"\n",
    "    K = np.zeros((N,N))\n",
    "    for i in range(N):\n",
    "        for j in range(i,N):\n",
    "            K[i][j] = kernel(X[i],X[j],gamma)\n",
    "            K[j][i] = K[i][j]\n",
    "    return K\n",
    "\n",
    "def beta_star(lamb_identity,K):\n",
    "    \"\"\"Calculate the optimal beta_star\"\"\"\n",
    "    return np.dot(np.linalg.inv(lamb_identity+K),Train[10].values)\n",
    "    \n",
    "def predicts(beta,gamma,X):\n",
    "    \"\"\"Predict by beta, gamma, and Data\"\"\"\n",
    "    return np.array([g(beta,gamma,x) for x in X])"
   ]
  },
  {
   "cell_type": "code",
   "execution_count": 11,
   "metadata": {
    "collapsed": false
   },
   "outputs": [
    {
     "name": "stdout",
     "output_type": "stream",
     "text": [
      "Best Train Accuracy 100.00 %, with lambda 0.001000 and gamma 32.000000.\n",
      "Best Test Accuracy 61.00 %, with lambda 1000.000000 and gamma 0.125000.\n",
      "Used 13.04 seconds\n"
     ]
    }
   ],
   "source": [
    "start = time.clock()\n",
    "\n",
    "X = np.array(Train[list(range(10))].values)\n",
    "X_test = np.array(Test[list(range(10))].values)\n",
    "N = len(X); N_t = len(X_test)\n",
    "Max_in = 0; Max_out = 0\n",
    "\n",
    "for lamb in [0.001,1,1000]:\n",
    "    for gamma in [32,2,0.125]:\n",
    "        lamb_identity = np.identity(N)*lamb\n",
    "        K = kernel_matrix(N,gamma)\n",
    "        beta = beta_star(lamb_identity,K)\n",
    "        \n",
    "        predict_in = predicts(beta,gamma,X)\n",
    "        predict_out = predicts(beta,gamma,X_test)\n",
    "        Accu_in = sum(predict_in==Train[10].values)/N\n",
    "        Accu_out = sum(predict_out==Test[10].values)/N_t\n",
    "        \n",
    "        if Accu_in > Max_in:\n",
    "            best_in = lamb,gamma,beta\n",
    "            Max_in = Accu_in\n",
    "        \n",
    "        if Accu_out > Max_out:\n",
    "            best_out = lamb,gamma,beta\n",
    "            Max_out = Accu_out\n",
    "            \n",
    "print('Best Train Accuracy %.2f %%, with lambda %f and gamma %f.'%(100*Max_in,best_in[0],best_in[1]))\n",
    "print('Best Test Accuracy %.2f %%, with lambda %f and gamma %f.'%(100*Max_out,best_out[0],best_out[1]))\n",
    "print('Used %.2f seconds'%(time.clock()-start))"
   ]
  },
  {
   "cell_type": "code",
   "execution_count": null,
   "metadata": {
    "collapsed": true
   },
   "outputs": [],
   "source": []
  }
 ],
 "metadata": {
  "kernelspec": {
   "display_name": "Python 3",
   "language": "python",
   "name": "python3"
  },
  "language_info": {
   "codemirror_mode": {
    "name": "ipython",
    "version": 3
   },
   "file_extension": ".py",
   "mimetype": "text/x-python",
   "name": "python",
   "nbconvert_exporter": "python",
   "pygments_lexer": "ipython3",
   "version": "3.4.5"
  }
 },
 "nbformat": 4,
 "nbformat_minor": 0
}
