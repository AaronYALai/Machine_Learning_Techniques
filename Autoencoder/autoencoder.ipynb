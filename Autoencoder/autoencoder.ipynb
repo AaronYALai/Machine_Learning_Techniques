{
 "cells": [
  {
   "cell_type": "code",
   "execution_count": 1,
   "metadata": {
    "collapsed": true
   },
   "outputs": [],
   "source": [
    "import time\n",
    "\n",
    "import numpy as np\n",
    "import pandas as pd\n",
    "import theano as th\n",
    "import theano.tensor as T"
   ]
  },
  {
   "cell_type": "code",
   "execution_count": 2,
   "metadata": {
    "collapsed": true
   },
   "outputs": [],
   "source": [
    "class Autoencoder(object):\n",
    "    \n",
    "    def __init__(self, layers, activ='tanh', update='sgd', lr=0.0003, batch=1, memo = 0.3):\n",
    "        self.x = T.matrix()\n",
    "        self.y_hat = T.matrix()\n",
    "        self.layers = layers\n",
    "        self.activ, self.update = self.choose(activ, update)\n",
    "        self.batch = batch; self.lr = lr; self.memo = memo\n",
    "        self.weights = []; self.biases = []\n",
    "        self.auxiliary = []\n",
    "        self.a_n = [self.x]\n",
    "        \n",
    "    def choose(self, activ, update):\n",
    "        \"\"\"Choose the activation and update function\"\"\"\n",
    "        Acti = dict({'tanh':self.tanh,'sigmoid':self.sigmoid,'ReLU':self.ReLU,'linear':self.linear})\n",
    "        Upda = dict({'sgd':self.sgd,'NAG':self.NAG,'RMSProp':self.RMSProp,'momentum':self.momentum})\n",
    "        return Acti[activ], Upda[update] \n",
    "        \n",
    "    def architecture(self, cons, code_layer):\n",
    "        \"\"\"Build up the architecture by theano\"\"\"\n",
    "        for i in range(len(self.layers)-1):\n",
    "            #Initialize shared variables\n",
    "            self.weights.append(th.shared(cons*np.random.randn(self.layers[i],self.layers[i+1])))\n",
    "            self.biases.append(th.shared(cons*np.random.randn(self.layers[i+1])))\n",
    "            #Building architecture\n",
    "            a_next = self.activ(T.dot(self.a_n[i],self.weights[i]) + self.biases[i].dimshuffle('x',0))\n",
    "            self.a_n.append(a_next)\n",
    "        \n",
    "        #help the optimization\n",
    "        for param in (self.weights+self.biases):    \n",
    "            self.auxiliary.append(th.shared(np.zeros(param.get_value().shape)))\n",
    "            \n",
    "        self.encode = th.function([self.x],self.a_n[code_layer]) \n",
    "        self.decode = th.function([self.a_n[code_layer]],self.a_n[-1])\n",
    "        \n",
    "        #Calculate the cost and gradients\n",
    "        Cost = (T.sum((self.a_n[-1]-self.y_hat)**2))/self.batch\n",
    "        grads = T.grad(Cost,self.weights+self.biases,disconnected_inputs='ignore') \n",
    "        #Update parameters\n",
    "        self.gradient_2 = th.function(inputs=[self.x,self.y_hat],updates=\n",
    "                                      self.update(self.weights+self.biases,grads,self.auxiliary),outputs=Cost)\n",
    "            \n",
    "    def fit(self, X, code_layer=1, epoch=10, print_every=1, cons=0.3, denoise=0.005):\n",
    "        \"\"\"fitting the data (unsupervised learning)\"\"\"\n",
    "        self.architecture(cons, code_layer)\n",
    "        start = time.clock(); self.Cost_Record = []   \n",
    "        for j in range(epoch):\n",
    "            costs = 0\n",
    "            rounds = int(X.shape[0]/self.batch)\n",
    "            X_permuted = X[np.random.permutation(X.shape[0])]\n",
    "            noise = np.random.randn(X.shape[0], X.shape[1])*X_permuted.std(axis=0)\n",
    "            X_permuted += noise*denoise\n",
    "            \n",
    "            for i in range(rounds):\n",
    "                batch_X = X_permuted[i*self.batch:(i+1)*self.batch]\n",
    "                costs += self.gradient_2(batch_X,batch_X)\n",
    "\n",
    "            self.Cost_Record.append(costs/rounds)\n",
    "            \n",
    "            if j % print_every == 0:\n",
    "                print(\"Epoch %d ; Cost: %f; %f seconds used.\"%(j+1,self.Cost_Record[-1],(time.clock()-start)))\n",
    "    \n",
    "    def encode(self, X):\n",
    "        return self.encode(X)\n",
    "    \n",
    "    def decode(self, X):\n",
    "        return self.decode(X)\n",
    "    \n",
    "    ##### Optimization methods #####\n",
    "    def sgd(self,para,grad,_):\n",
    "        \"\"\"optimized by gradient descent\"\"\"\n",
    "        return [(para[ix], para[ix]-self.lr*grad[ix]) for ix in range(len(grad))]\n",
    "\n",
    "    def NAG(self,para,grad,Real):\n",
    "        \"\"\"optimized by Nesterov accelerated gadient(NAG)\"\"\"\n",
    "        updates = []\n",
    "        for ix in range(len(grad)):\n",
    "            #grad[ix] = T.clip(grad[ix],-1,1)\n",
    "            gradient = -(self.lr/self.batch)*grad[ix]\n",
    "            spy_position = (1+self.memo)*(para[ix]+gradient)-self.memo*Real[ix]\n",
    "            updates.append((para[ix], spy_position))\n",
    "            updates.append((Real[ix], para[ix]+gradient))\n",
    "        return updates\n",
    "    \n",
    "    def momentum(self,para,grad,Momentum):\n",
    "        \"\"\"optimized by momentum\"\"\"\n",
    "        updates = []\n",
    "        for ix in range(len(grad)):\n",
    "            #grad[ix] = T.clip(grad[ix],-1,1)\n",
    "            direction = (self.memo)*Momentum[ix] - (self.lr/self.batch)*grad[ix]\n",
    "            updates.append((para[ix], para[ix]+direction))\n",
    "            updates.append((Momentum[ix], direction))\n",
    "        return updates\n",
    "    \n",
    "    def RMSProp(self,para,grad,Sigma_square):\n",
    "        \"\"\"optimized by RMSProp\"\"\"\n",
    "        updates = []; alpha = self.memo\n",
    "        for ix in range(len(grad)):\n",
    "            #grad[ix] = T.clip(grad[ix],-1,1)\n",
    "            gradient = grad[ix]/self.batch\n",
    "            Factor = Sigma_square[ix]*alpha+(1-alpha)*(gradient**2)\n",
    "            direction = -(self.lr)*gradient/(T.sqrt(Factor)+0.001)\n",
    "            updates.append((para[ix], para[ix]+direction))\n",
    "            updates.append((Sigma_square[ix], Factor))\n",
    "        return updates\n",
    "    \n",
    "    ##### Activation functions #####               \n",
    "    def tanh(self, Z):\n",
    "        return T.tanh(Z)\n",
    "    \n",
    "    def ReLU(self, Z):\n",
    "        return T.switch(Z<0,0,Z)\n",
    "    \n",
    "    def sigmoid(self, Z):\n",
    "        return 1/(1+T.exp(-Z))\n",
    "    \n",
    "    def linear(self, Z):\n",
    "        return Z\n"
   ]
  },
  {
   "cell_type": "code",
   "execution_count": 3,
   "metadata": {
    "collapsed": false,
    "scrolled": true
   },
   "outputs": [
    {
     "name": "stdout",
     "output_type": "stream",
     "text": [
      "Epoch 1 ; Cost: 4.813664; 0.014526 seconds used.\n",
      "Epoch 101 ; Cost: 1.431566; 1.532882 seconds used.\n",
      "Epoch 201 ; Cost: 1.127423; 3.050505 seconds used.\n",
      "Epoch 301 ; Cost: 0.931415; 4.634072 seconds used.\n",
      "Epoch 401 ; Cost: 0.763588; 6.133072 seconds used.\n",
      "Epoch 501 ; Cost: 0.655769; 7.639055 seconds used.\n",
      "Epoch 601 ; Cost: 0.586990; 9.114935 seconds used.\n",
      "Epoch 701 ; Cost: 0.505899; 10.646808 seconds used.\n",
      "Epoch 801 ; Cost: 0.466384; 12.205964 seconds used.\n",
      "Epoch 901 ; Cost: 0.431887; 13.739288 seconds used.\n",
      "Epoch 1001 ; Cost: 0.386706; 15.313681 seconds used.\n",
      "Epoch 1101 ; Cost: 0.376895; 16.813711 seconds used.\n",
      "Epoch 1201 ; Cost: 0.328889; 18.328748 seconds used.\n",
      "Epoch 1301 ; Cost: 0.299646; 19.816789 seconds used.\n",
      "Epoch 1401 ; Cost: 0.287231; 21.285019 seconds used.\n",
      "Epoch 1501 ; Cost: 0.242835; 22.749620 seconds used.\n",
      "Epoch 1601 ; Cost: 0.225762; 24.230938 seconds used.\n",
      "Epoch 1701 ; Cost: 0.224149; 25.709938 seconds used.\n",
      "Epoch 1801 ; Cost: 0.184800; 27.220697 seconds used.\n",
      "Epoch 1901 ; Cost: 0.196242; 28.707888 seconds used.\n",
      "Epoch 2001 ; Cost: 0.186115; 30.200325 seconds used.\n"
     ]
    }
   ],
   "source": [
    "data = pd.read_csv('Data/train.dat',header=None,delim_whitespace=True)\n",
    "coder = Autoencoder([9,64,32,16,2,16,32,64,9], batch=2, activ='tanh', update='RMSProp', memo=0.8, lr=0.001)\n",
    "coder.fit(data.values, code_layer=4, epoch=2001, print_every=100)"
   ]
  },
  {
   "cell_type": "code",
   "execution_count": 4,
   "metadata": {
    "collapsed": false
   },
   "outputs": [
    {
     "data": {
      "text/plain": [
       "[<matplotlib.lines.Line2D at 0x10a3ad278>]"
      ]
     },
     "execution_count": 4,
     "metadata": {},
     "output_type": "execute_result"
    },
    {
     "data": {
      "image/png": "[encoded data removed]",
      "text/plain": [
       "<matplotlib.figure.Figure at 0x108999470>"
      ]
     },
     "metadata": {},
     "output_type": "display_data"
    }
   ],
   "source": [
    "%matplotlib inline\n",
    "import matplotlib.pyplot as plt\n",
    "\n",
    "plt.figure(figsize=(6,6))\n",
    "plt.plot(coder.Cost_Record)"
   ]
  },
  {
   "cell_type": "code",
   "execution_count": 5,
   "metadata": {
    "collapsed": false,
    "scrolled": true
   },
   "outputs": [
    {
     "name": "stdout",
     "output_type": "stream",
     "text": [
      "encode:\n",
      " [[-0.3199 -0.3034]\n",
      " [ 0.7191 -0.5755]\n",
      " [ 0.3189 -0.4277]\n",
      " [ 0.9186 -0.9192]\n",
      " [ 0.104  -0.6343]]\n",
      "decode:\n",
      " [[ 0.812  -0.5116  0.4948  0.5328 -0.7794  0.6674  0.6818 -0.2716 -0.5186]\n",
      " [-0.6045 -0.0514  0.7796  0.0119  0.2946 -0.4479  0.0592  0.5272 -0.7022]\n",
      " [ 0.2469 -0.0233  0.4548 -0.5035 -0.6908  0.5951 -0.9031  0.7063 -0.6783]\n",
      " [-0.9352  0.7119 -0.2632 -0.8903  0.0868 -0.8843 -0.4798  0.9617  0.9413]\n",
      " [ 0.7913 -0.0493  0.272   0.281   0.8274  0.6346 -0.2271  0.9037  0.3844]]\n",
      "original:\n",
      " [[ 0.8105 -0.35    0.4769  0.4541 -0.9829  0.5252  0.3838 -0.3408 -0.4824]\n",
      " [-0.6273 -0.2097  0.9404  0.1143  0.3487 -0.5206  0.0061  0.5024 -0.6687]\n",
      " [ 0.1624 -0.1173  0.426  -0.3607 -0.6632  0.4431 -0.8355  0.7206 -0.8977]\n",
      " [-1.      0.7758 -0.267  -0.888  -0.1099 -0.9183 -0.4086  0.8962  0.5841]\n",
      " [ 0.8464  0.1762  0.2729  0.2724  0.8155  0.6096 -0.2844  0.98    0.3302]]\n"
     ]
    }
   ],
   "source": [
    "code = coder.encode(data.values)\n",
    "np.set_printoptions(4)\n",
    "print('encode:\\n',code[:5])\n",
    "print('decode:\\n',coder.decode(code)[:5])\n",
    "print('original:\\n',data.values[:5])"
   ]
  },
  {
   "cell_type": "code",
   "execution_count": null,
   "metadata": {
    "collapsed": true
   },
   "outputs": [],
   "source": []
  }
 ],
 "metadata": {
  "kernelspec": {
   "display_name": "Python 3",
   "language": "python",
   "name": "python3"
  },
  "language_info": {
   "codemirror_mode": {
    "name": "ipython",
    "version": 3
   },
   "file_extension": ".py",
   "mimetype": "text/x-python",
   "name": "python",
   "nbconvert_exporter": "python",
   "pygments_lexer": "ipython3",
   "version": "3.4.3"
  }
 },
 "nbformat": 4,
 "nbformat_minor": 0
}
