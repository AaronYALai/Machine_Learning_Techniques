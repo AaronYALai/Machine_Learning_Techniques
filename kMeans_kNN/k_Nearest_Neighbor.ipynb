{
 "cells": [
  {
   "cell_type": "code",
   "execution_count": 1,
   "metadata": {
    "collapsed": true
   },
   "outputs": [],
   "source": [
    "import numpy as np\n",
    "import pandas as pd\n",
    "import time"
   ]
  },
  {
   "cell_type": "code",
   "execution_count": 2,
   "metadata": {
    "collapsed": true
   },
   "outputs": [],
   "source": [
    "class kNN(object):\n",
    "    \"\"\"Uniform voting by k nearest neighbors as predictions\"\"\"\n",
    "    def __init__(self, k):\n",
    "        self.k = k\n",
    "\n",
    "    def train(self, X, y):\n",
    "        self.Xtrain = X\n",
    "        self.ytrain = y\n",
    "\n",
    "    def predict(self, Xtest):\n",
    "        \"\"\"Find the k nearest neighbor of the input and do uniform voting\"\"\"\n",
    "        prediction = []\n",
    "        for xtest in Xtest:\n",
    "            # initialize k nearest neighbors\n",
    "            Ind_Dist = [(float(\"inf\"), 0)] * self.k\n",
    "\n",
    "            for ind, xtrain in enumerate(self.Xtrain):\n",
    "                dist = np.sum((xtest - xtrain)**2)\n",
    "\n",
    "                if dist <= Ind_Dist[-1][0]:\n",
    "                    Ind_Dist[-1] = (dist, ind)\n",
    "                    Ind_Dist.sort()\n",
    "\n",
    "            voted_result = sum([self.ytrain[ind] for _, ind in Ind_Dist])\n",
    "            predict = 1 if voted_result >= 0 else -1\n",
    "            prediction.append(predict)\n",
    "\n",
    "        return np.array(prediction)\n"
   ]
  },
  {
   "cell_type": "code",
   "execution_count": 3,
   "metadata": {
    "collapsed": false
   },
   "outputs": [
    {
     "data": {
      "text/html": [
       "<div>\n",
       "<table border=\"1\" class=\"dataframe\">\n",
       "  <thead>\n",
       "    <tr style=\"text-align: right;\">\n",
       "      <th></th>\n",
       "      <th>0</th>\n",
       "      <th>1</th>\n",
       "      <th>2</th>\n",
       "      <th>3</th>\n",
       "      <th>4</th>\n",
       "      <th>5</th>\n",
       "      <th>6</th>\n",
       "      <th>7</th>\n",
       "      <th>8</th>\n",
       "      <th>9</th>\n",
       "    </tr>\n",
       "  </thead>\n",
       "  <tbody>\n",
       "    <tr>\n",
       "      <th>0</th>\n",
       "      <td>0.8105</td>\n",
       "      <td>-0.3500</td>\n",
       "      <td>0.4769</td>\n",
       "      <td>0.4541</td>\n",
       "      <td>-0.9829</td>\n",
       "      <td>0.5252</td>\n",
       "      <td>0.3838</td>\n",
       "      <td>-0.3408</td>\n",
       "      <td>-0.4824</td>\n",
       "      <td>-1</td>\n",
       "    </tr>\n",
       "    <tr>\n",
       "      <th>1</th>\n",
       "      <td>-0.6273</td>\n",
       "      <td>-0.2097</td>\n",
       "      <td>0.9404</td>\n",
       "      <td>0.1143</td>\n",
       "      <td>0.3487</td>\n",
       "      <td>-0.5206</td>\n",
       "      <td>0.0061</td>\n",
       "      <td>0.5024</td>\n",
       "      <td>-0.6687</td>\n",
       "      <td>1</td>\n",
       "    </tr>\n",
       "    <tr>\n",
       "      <th>2</th>\n",
       "      <td>0.1624</td>\n",
       "      <td>-0.1173</td>\n",
       "      <td>0.4260</td>\n",
       "      <td>-0.3607</td>\n",
       "      <td>-0.6632</td>\n",
       "      <td>0.4431</td>\n",
       "      <td>-0.8355</td>\n",
       "      <td>0.7206</td>\n",
       "      <td>-0.8977</td>\n",
       "      <td>1</td>\n",
       "    </tr>\n",
       "    <tr>\n",
       "      <th>3</th>\n",
       "      <td>-1.0000</td>\n",
       "      <td>0.7758</td>\n",
       "      <td>-0.2670</td>\n",
       "      <td>-0.8880</td>\n",
       "      <td>-0.1099</td>\n",
       "      <td>-0.9183</td>\n",
       "      <td>-0.4086</td>\n",
       "      <td>0.8962</td>\n",
       "      <td>0.5841</td>\n",
       "      <td>1</td>\n",
       "    </tr>\n",
       "    <tr>\n",
       "      <th>4</th>\n",
       "      <td>0.8464</td>\n",
       "      <td>0.1762</td>\n",
       "      <td>0.2729</td>\n",
       "      <td>0.2724</td>\n",
       "      <td>0.8155</td>\n",
       "      <td>0.6096</td>\n",
       "      <td>-0.2844</td>\n",
       "      <td>0.9800</td>\n",
       "      <td>0.3302</td>\n",
       "      <td>-1</td>\n",
       "    </tr>\n",
       "  </tbody>\n",
       "</table>\n",
       "</div>"
      ],
      "text/plain": [
       "        0       1       2       3       4       5       6       7       8  9\n",
       "0  0.8105 -0.3500  0.4769  0.4541 -0.9829  0.5252  0.3838 -0.3408 -0.4824 -1\n",
       "1 -0.6273 -0.2097  0.9404  0.1143  0.3487 -0.5206  0.0061  0.5024 -0.6687  1\n",
       "2  0.1624 -0.1173  0.4260 -0.3607 -0.6632  0.4431 -0.8355  0.7206 -0.8977  1\n",
       "3 -1.0000  0.7758 -0.2670 -0.8880 -0.1099 -0.9183 -0.4086  0.8962  0.5841  1\n",
       "4  0.8464  0.1762  0.2729  0.2724  0.8155  0.6096 -0.2844  0.9800  0.3302 -1"
      ]
     },
     "execution_count": 3,
     "metadata": {},
     "output_type": "execute_result"
    }
   ],
   "source": [
    "train_data = pd.read_csv('Data/hw4_knn_train.dat', sep=' ', header=None)\n",
    "train_data.head()"
   ]
  },
  {
   "cell_type": "code",
   "execution_count": 4,
   "metadata": {
    "collapsed": false
   },
   "outputs": [
    {
     "data": {
      "text/html": [
       "<div>\n",
       "<table border=\"1\" class=\"dataframe\">\n",
       "  <thead>\n",
       "    <tr style=\"text-align: right;\">\n",
       "      <th></th>\n",
       "      <th>0</th>\n",
       "      <th>1</th>\n",
       "      <th>2</th>\n",
       "      <th>3</th>\n",
       "      <th>4</th>\n",
       "      <th>5</th>\n",
       "      <th>6</th>\n",
       "      <th>7</th>\n",
       "      <th>8</th>\n",
       "      <th>9</th>\n",
       "    </tr>\n",
       "  </thead>\n",
       "  <tbody>\n",
       "    <tr>\n",
       "      <th>0</th>\n",
       "      <td>0.0531</td>\n",
       "      <td>-0.1884</td>\n",
       "      <td>-0.0351</td>\n",
       "      <td>-0.1796</td>\n",
       "      <td>-0.9891</td>\n",
       "      <td>0.6120</td>\n",
       "      <td>0.2486</td>\n",
       "      <td>0.8440</td>\n",
       "      <td>-0.5123</td>\n",
       "      <td>-1</td>\n",
       "    </tr>\n",
       "    <tr>\n",
       "      <th>1</th>\n",
       "      <td>0.5123</td>\n",
       "      <td>0.5047</td>\n",
       "      <td>0.5404</td>\n",
       "      <td>-0.1742</td>\n",
       "      <td>-0.0317</td>\n",
       "      <td>0.9585</td>\n",
       "      <td>-0.4016</td>\n",
       "      <td>-0.1800</td>\n",
       "      <td>-0.5633</td>\n",
       "      <td>1</td>\n",
       "    </tr>\n",
       "    <tr>\n",
       "      <th>2</th>\n",
       "      <td>0.3286</td>\n",
       "      <td>0.4251</td>\n",
       "      <td>-0.4837</td>\n",
       "      <td>-0.7065</td>\n",
       "      <td>-0.7546</td>\n",
       "      <td>-0.4727</td>\n",
       "      <td>0.9055</td>\n",
       "      <td>0.4941</td>\n",
       "      <td>-0.6287</td>\n",
       "      <td>1</td>\n",
       "    </tr>\n",
       "    <tr>\n",
       "      <th>3</th>\n",
       "      <td>-0.0795</td>\n",
       "      <td>-0.1617</td>\n",
       "      <td>-0.8414</td>\n",
       "      <td>-0.5391</td>\n",
       "      <td>0.6641</td>\n",
       "      <td>0.1269</td>\n",
       "      <td>-0.5806</td>\n",
       "      <td>-0.7375</td>\n",
       "      <td>0.9469</td>\n",
       "      <td>1</td>\n",
       "    </tr>\n",
       "    <tr>\n",
       "      <th>4</th>\n",
       "      <td>-0.4362</td>\n",
       "      <td>0.1490</td>\n",
       "      <td>-0.7232</td>\n",
       "      <td>0.0802</td>\n",
       "      <td>0.4424</td>\n",
       "      <td>-0.4777</td>\n",
       "      <td>0.6075</td>\n",
       "      <td>0.3480</td>\n",
       "      <td>-0.9837</td>\n",
       "      <td>1</td>\n",
       "    </tr>\n",
       "  </tbody>\n",
       "</table>\n",
       "</div>"
      ],
      "text/plain": [
       "        0       1       2       3       4       5       6       7       8  9\n",
       "0  0.0531 -0.1884 -0.0351 -0.1796 -0.9891  0.6120  0.2486  0.8440 -0.5123 -1\n",
       "1  0.5123  0.5047  0.5404 -0.1742 -0.0317  0.9585 -0.4016 -0.1800 -0.5633  1\n",
       "2  0.3286  0.4251 -0.4837 -0.7065 -0.7546 -0.4727  0.9055  0.4941 -0.6287  1\n",
       "3 -0.0795 -0.1617 -0.8414 -0.5391  0.6641  0.1269 -0.5806 -0.7375  0.9469  1\n",
       "4 -0.4362  0.1490 -0.7232  0.0802  0.4424 -0.4777  0.6075  0.3480 -0.9837  1"
      ]
     },
     "execution_count": 4,
     "metadata": {},
     "output_type": "execute_result"
    }
   ],
   "source": [
    "test_data = pd.read_csv('Data/hw4_knn_test.dat', sep=' ', header=None)\n",
    "test_data.head()"
   ]
  },
  {
   "cell_type": "code",
   "execution_count": 5,
   "metadata": {
    "collapsed": false
   },
   "outputs": [
    {
     "name": "stdout",
     "output_type": "stream",
     "text": [
      "Using k-nearest-neighbor with k = 5\n",
      "\tError rate on training set: 16.00 %\n",
      "\tError rate on test set: 31.60 %\n",
      "\n",
      "Using 0.66 seconds\n"
     ]
    }
   ],
   "source": [
    "start = time.clock()\n",
    "\n",
    "K = 5\n",
    "one_neighbor = kNN(K)\n",
    "one_neighbor.train(train_data[list(range(9))].values, train_data[9].values)\n",
    "print('Using k-nearest-neighbor with k = %d' % K)\n",
    "\n",
    "train_pred = one_neighbor.predict(train_data[list(range(9))].values)\n",
    "Ein = sum(train_pred != train_data[9].values) / len(train_pred)\n",
    "print('\\tError rate on training set: %.2f %%' % (100 * Ein))\n",
    "\n",
    "test_pred = one_neighbor.predict(test_data[list(range(9))].values)\n",
    "Eout = sum(test_pred != test_data[9].values) / len(test_pred)\n",
    "print('\\tError rate on test set: %.2f %%' % (100 * Eout))\n",
    "\n",
    "print('\\nUsing %.2f seconds' % (time.clock() - start))"
   ]
  },
  {
   "cell_type": "code",
   "execution_count": null,
   "metadata": {
    "collapsed": true
   },
   "outputs": [],
   "source": []
  }
 ],
 "metadata": {
  "kernelspec": {
   "display_name": "Python 3",
   "language": "python",
   "name": "python3"
  },
  "language_info": {
   "codemirror_mode": {
    "name": "ipython",
    "version": 3
   },
   "file_extension": ".py",
   "mimetype": "text/x-python",
   "name": "python",
   "nbconvert_exporter": "python",
   "pygments_lexer": "ipython3",
   "version": "3.4.5"
  }
 },
 "nbformat": 4,
 "nbformat_minor": 0
}
