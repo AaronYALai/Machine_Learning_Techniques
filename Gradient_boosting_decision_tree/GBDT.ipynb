{
 "cells": [
  {
   "cell_type": "code",
   "execution_count": 1,
   "metadata": {
    "collapsed": true
   },
   "outputs": [],
   "source": [
    "import time\n",
    "\n",
    "import numpy as np\n",
    "import pandas as pd"
   ]
  },
  {
   "cell_type": "code",
   "execution_count": 2,
   "metadata": {
    "collapsed": false
   },
   "outputs": [],
   "source": [
    "# Gradient Boosting Decision Tree(C&RT) with Gini Impurity\n",
    "\n",
    "class GBDTree(object):\n",
    "\n",
    "    def __init__(self):\n",
    "        self.trees = {}       # Record each decision tree as base learners\n",
    "        self.Branch = {}      # Record where and how to branch\n",
    "        self.Value = {}       # Record the predict values at leaves\n",
    "\n",
    "    def fit(self, X, y, T=50, depth=100):\n",
    "        \"\"\"Gradient boosting machine on decision tree for regression\"\"\"\n",
    "        self.dim = X.shape[1]\n",
    "        self.s = np.zeros((X.shape[0], 1))\n",
    "        X_cols = list(range(self.dim))\n",
    "        y = y.reshape(X.shape[0], 1)\n",
    "\n",
    "        for i in range(T):\n",
    "            data = np.hstack((X, y-self.s))\n",
    "            df = pd.DataFrame(data=data, columns=X_cols+['y'])\n",
    "            self.build_tree(df, depth=depth)\n",
    "            g_t = np.array([self.tree_predict(x) for x in df[X_cols].values])\n",
    "\n",
    "            if np.dot(g_t, g_t) != 0:\n",
    "                alpha = np.dot(g_t, df.y.values.ravel()) / np.dot(g_t, g_t)\n",
    "            else:\n",
    "                alpha = 0\n",
    "\n",
    "            self.trees[i] = (alpha, self.Branch, self.Value)\n",
    "            self.clean()\n",
    "            self.s += alpha*(g_t.reshape(X.shape[0], 1))\n",
    "\n",
    "        print('Done.')\n",
    "\n",
    "    def clean(self):\n",
    "        self.Branch = {}\n",
    "        self.Value = {}\n",
    "\n",
    "    def predict(self, X):\n",
    "        output = np.zeros(X.shape[0])\n",
    "        for alpha, branch, value in self.trees.values():\n",
    "            self.Branch = branch\n",
    "            self.Value = value\n",
    "            output += alpha*np.array([self.tree_predict(x) for x in X])\n",
    "\n",
    "        self.clean()\n",
    "        return output\n",
    "\n",
    "    def build_tree(self, df, layer=0, side=0, depth=100):\n",
    "        \"\"\"Build the decision tree by recursively branching by Gini impurity\"\"\"\n",
    "        # Cannot be branched anymore\n",
    "        if len(set(df.y)) == 1:\n",
    "            self.Value[(layer, side)] = df.y.values[0]\n",
    "\n",
    "        # Depth reaches the limit\n",
    "        elif layer >= depth:\n",
    "            self.Value[(layer, side)] = 2 * (sum(df.y.values) >= 0) - 1\n",
    "\n",
    "        else:\n",
    "            best_d, best_val = self.branching(df, layer, side)\n",
    "            # Left hand side\n",
    "            self.build_tree(df[df[best_d] >= best_val],\n",
    "                            layer + 1, 2 * side, depth)\n",
    "            # Right hand side\n",
    "            self.build_tree(df[df[best_d] < best_val],\n",
    "                            layer + 1, 2 * side + 1, depth)\n",
    "\n",
    "    def branching(self, df, layer, side):\n",
    "        \"\"\"find the value of i-th feature for the best branching\"\"\"\n",
    "        min_err = 1\n",
    "        for i in range(self.dim):\n",
    "            ddf = df.sort_values(i)\n",
    "            Y = ddf.y.values\n",
    "\n",
    "            for j in range(1, len(ddf)):\n",
    "                err = self.impurity(Y, j)\n",
    "\n",
    "                if err <= min_err:\n",
    "                    best_d, best_val, min_err = i, ddf.iloc[j][i], err\n",
    "\n",
    "        # Record the best branching parameters at this node\n",
    "        self.Branch[(layer, side)] = best_d, best_val\n",
    "\n",
    "        return best_d, best_val\n",
    "\n",
    "    def impurity(self, Y, j):\n",
    "        \"\"\"Gini impurity for binary classification\"\"\"\n",
    "        # Neglect repeated entries\n",
    "        if Y[j] == Y[j-1]:\n",
    "            return 1\n",
    "\n",
    "        Y1 = sum(Y[:j])\n",
    "        Y2 = sum(Y[j:])\n",
    "        N = len(Y)\n",
    "        T1 = j**2 - (Y1)**2\n",
    "        T2 = (N-j)**2 - (Y2)**2\n",
    "\n",
    "        return (T1 / j + T2 / (N-j)) / N\n",
    "\n",
    "    def tree_predict(self, X_t, layer=0, side=0):\n",
    "        \"\"\"Predict the class X_t belongs to\"\"\"\n",
    "        if (layer, side) in self.Value:\n",
    "            return self.Value[(layer, side)]\n",
    "        else:\n",
    "            branch_d, branch_val = self.Branch[(layer, side)]\n",
    "            C = 0 if X_t[branch_d] >= branch_val else 1\n",
    "            return self.tree_predict(X_t, layer + 1, 2*side + C)\n"
   ]
  },
  {
   "cell_type": "code",
   "execution_count": 3,
   "metadata": {
    "collapsed": false,
    "scrolled": true
   },
   "outputs": [
    {
     "data": {
      "text/html": [
       "<div>\n",
       "<table border=\"1\" class=\"dataframe\">\n",
       "  <thead>\n",
       "    <tr style=\"text-align: right;\">\n",
       "      <th></th>\n",
       "      <th>0</th>\n",
       "      <th>1</th>\n",
       "      <th>y</th>\n",
       "    </tr>\n",
       "  </thead>\n",
       "  <tbody>\n",
       "    <tr>\n",
       "      <th>0</th>\n",
       "      <td>0.757222</td>\n",
       "      <td>0.633831</td>\n",
       "      <td>-1</td>\n",
       "    </tr>\n",
       "    <tr>\n",
       "      <th>1</th>\n",
       "      <td>0.847382</td>\n",
       "      <td>0.281581</td>\n",
       "      <td>-1</td>\n",
       "    </tr>\n",
       "    <tr>\n",
       "      <th>2</th>\n",
       "      <td>0.249310</td>\n",
       "      <td>0.618635</td>\n",
       "      <td>1</td>\n",
       "    </tr>\n",
       "    <tr>\n",
       "      <th>3</th>\n",
       "      <td>0.538526</td>\n",
       "      <td>0.144259</td>\n",
       "      <td>-1</td>\n",
       "    </tr>\n",
       "    <tr>\n",
       "      <th>4</th>\n",
       "      <td>0.474435</td>\n",
       "      <td>0.414558</td>\n",
       "      <td>-1</td>\n",
       "    </tr>\n",
       "  </tbody>\n",
       "</table>\n",
       "</div>"
      ],
      "text/plain": [
       "          0         1  y\n",
       "0  0.757222  0.633831 -1\n",
       "1  0.847382  0.281581 -1\n",
       "2  0.249310  0.618635  1\n",
       "3  0.538526  0.144259 -1\n",
       "4  0.474435  0.414558 -1"
      ]
     },
     "execution_count": 3,
     "metadata": {},
     "output_type": "execute_result"
    }
   ],
   "source": [
    "Train = pd.read_csv('Data/hw3_train.dat', sep=' ', header=None, names=[0, 1, 'y'])\n",
    "X_train = Train[[0, 1]].values\n",
    "y_train = np.ravel(Train[['y']])\n",
    "Train.head()"
   ]
  },
  {
   "cell_type": "code",
   "execution_count": 4,
   "metadata": {
    "collapsed": false
   },
   "outputs": [
    {
     "data": {
      "text/html": [
       "<div>\n",
       "<table border=\"1\" class=\"dataframe\">\n",
       "  <thead>\n",
       "    <tr style=\"text-align: right;\">\n",
       "      <th></th>\n",
       "      <th>0</th>\n",
       "      <th>1</th>\n",
       "      <th>y</th>\n",
       "    </tr>\n",
       "  </thead>\n",
       "  <tbody>\n",
       "    <tr>\n",
       "      <th>0</th>\n",
       "      <td>0.984250</td>\n",
       "      <td>0.712610</td>\n",
       "      <td>-1</td>\n",
       "    </tr>\n",
       "    <tr>\n",
       "      <th>1</th>\n",
       "      <td>0.901491</td>\n",
       "      <td>0.462824</td>\n",
       "      <td>-1</td>\n",
       "    </tr>\n",
       "    <tr>\n",
       "      <th>2</th>\n",
       "      <td>0.872418</td>\n",
       "      <td>0.365547</td>\n",
       "      <td>-1</td>\n",
       "    </tr>\n",
       "    <tr>\n",
       "      <th>3</th>\n",
       "      <td>0.810913</td>\n",
       "      <td>0.058338</td>\n",
       "      <td>-1</td>\n",
       "    </tr>\n",
       "    <tr>\n",
       "      <th>4</th>\n",
       "      <td>0.577230</td>\n",
       "      <td>0.203007</td>\n",
       "      <td>-1</td>\n",
       "    </tr>\n",
       "  </tbody>\n",
       "</table>\n",
       "</div>"
      ],
      "text/plain": [
       "          0         1  y\n",
       "0  0.984250  0.712610 -1\n",
       "1  0.901491  0.462824 -1\n",
       "2  0.872418  0.365547 -1\n",
       "3  0.810913  0.058338 -1\n",
       "4  0.577230  0.203007 -1"
      ]
     },
     "execution_count": 4,
     "metadata": {},
     "output_type": "execute_result"
    }
   ],
   "source": [
    "Test = pd.read_csv('Data/hw3_test.dat', sep=' ', header=None, names=[0, 1, 'y'])\n",
    "X_test = Test[[0, 1]].values\n",
    "y_test = np.ravel(Test[['y']])\n",
    "Test.head()"
   ]
  },
  {
   "cell_type": "code",
   "execution_count": 5,
   "metadata": {
    "collapsed": false,
    "scrolled": true
   },
   "outputs": [
    {
     "name": "stdout",
     "output_type": "stream",
     "text": [
      "Done.\n",
      "\tAccuracy on Train set: 100.000 %\n",
      "\tAccuracy on Test set: 90.100 %\n",
      "\n",
      "Using 0.229 seconds\n"
     ]
    }
   ],
   "source": [
    "Start = time.clock()\n",
    "\n",
    "GBDT = GBDTree()\n",
    "GBDT.fit(X_train, y_train, T=10, depth=3)\n",
    "\n",
    "y_predict = np.array([1 if p >= 0 else -1 for p in GBDT.predict(X_train)])\n",
    "print(\"\\tAccuracy on Train set: %.3f %%\" %\n",
    "      (sum(y_predict == y_train)*100 / Train.shape[0]))\n",
    "\n",
    "ytest_predict = [1 if p >= 0 else -1 for p in GBDT.predict(X_test)]\n",
    "print(\"\\tAccuracy on Test set: %.3f %%\" %\n",
    "      (sum(np.array(ytest_predict) == y_test)*100 / Test.shape[0]))\n",
    "\n",
    "print(\"\\nUsing %.3f seconds\" % (time.clock()-Start))"
   ]
  },
  {
   "cell_type": "code",
   "execution_count": null,
   "metadata": {
    "collapsed": true
   },
   "outputs": [],
   "source": []
  }
 ],
 "metadata": {
  "kernelspec": {
   "display_name": "Python 3",
   "language": "python",
   "name": "python3"
  },
  "language_info": {
   "codemirror_mode": {
    "name": "ipython",
    "version": 3
   },
   "file_extension": ".py",
   "mimetype": "text/x-python",
   "name": "python",
   "nbconvert_exporter": "python",
   "pygments_lexer": "ipython3",
   "version": "3.4.5"
  }
 },
 "nbformat": 4,
 "nbformat_minor": 0
}
