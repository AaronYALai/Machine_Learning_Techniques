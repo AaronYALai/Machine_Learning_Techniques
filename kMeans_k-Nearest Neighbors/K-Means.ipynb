{
 "cells": [
  {
   "cell_type": "code",
   "execution_count": 1,
   "metadata": {
    "collapsed": true
   },
   "outputs": [],
   "source": [
    "import numpy as np\n",
    "import pandas as pd\n",
    "import time"
   ]
  },
  {
   "cell_type": "code",
   "execution_count": 2,
   "metadata": {
    "collapsed": true
   },
   "outputs": [],
   "source": [
    "class KMeans(object):\n",
    "    \"\"\"K-Means clustering algorithm\"\"\"\n",
    "    def __init__(self,k):\n",
    "        self.k = k\n",
    "        \n",
    "    def cluster(self,X):\n",
    "        \"\"\"Perform KMeans clustering to find the centers of clusters\"\"\"\n",
    "        #Initialization\n",
    "        centers = np.array([X[ind] for ind in np.random.choice(len(X),self.k)])\n",
    "        clusters = [0]*(len(X))\n",
    "        \n",
    "        conti = False\n",
    "        while True:\n",
    "            #Find optimal partition of the data points given the centers\n",
    "            for ix,x in enumerate(X):\n",
    "                best = float(\"inf\")\n",
    "                for ind,center in enumerate(centers):\n",
    "                    dist = np.sum((x-center)**2)\n",
    "                    if dist < best:\n",
    "                        best = dist\n",
    "                        clus = ind\n",
    "                if clus != clusters[ix]:\n",
    "                    clusters[ix] = clus\n",
    "                    conti = True\n",
    "            \n",
    "            #Re-compute the optimal centers given the partition\n",
    "            add = {}        \n",
    "            for k in range(self.k):\n",
    "                 add[k] = np.zeros(len(X[0]))\n",
    "            num = [0]*self.k\n",
    "            for ix,ind in enumerate(clusters):\n",
    "                add[ind] += X[ix]\n",
    "                num[ind] += 1\n",
    "            centers = np.array([add[j]/num[j] for j in range(self.k)])\n",
    "            #stop if the partition hasn't changed\n",
    "            if conti:\n",
    "                conti = False\n",
    "            else:\n",
    "                break\n",
    "                \n",
    "        self.centers = centers\n",
    "        self.clusters = clusters\n",
    "        self.data = X\n",
    "        return centers\n",
    "        \n",
    "    def square_error(self,Print=False):\n",
    "        \"\"\"Compute average square error to centers\"\"\"\n",
    "        Error = 0\n",
    "        for i in range(len(self.data)):\n",
    "            Error += np.sum((self.data[i]-self.centers[self.clusters[i]])**2)\n",
    "        Error = Error/len(self.data)\n",
    "        if Print:\n",
    "            print(\"Average square error to centers: %.4f\"%Error)\n",
    "        return Error"
   ]
  },
  {
   "cell_type": "code",
   "execution_count": 3,
   "metadata": {
    "collapsed": false
   },
   "outputs": [
    {
     "data": {
      "text/html": [
       "<div>\n",
       "<table border=\"1\" class=\"dataframe\">\n",
       "  <thead>\n",
       "    <tr style=\"text-align: right;\">\n",
       "      <th></th>\n",
       "      <th>0</th>\n",
       "      <th>1</th>\n",
       "      <th>2</th>\n",
       "      <th>3</th>\n",
       "      <th>4</th>\n",
       "      <th>5</th>\n",
       "      <th>6</th>\n",
       "      <th>7</th>\n",
       "      <th>8</th>\n",
       "    </tr>\n",
       "  </thead>\n",
       "  <tbody>\n",
       "    <tr>\n",
       "      <th>0</th>\n",
       "      <td>0.8105</td>\n",
       "      <td>-0.3500</td>\n",
       "      <td>0.4769</td>\n",
       "      <td>0.4541</td>\n",
       "      <td>-0.9829</td>\n",
       "      <td>0.5252</td>\n",
       "      <td>0.3838</td>\n",
       "      <td>-0.3408</td>\n",
       "      <td>-0.4824</td>\n",
       "    </tr>\n",
       "    <tr>\n",
       "      <th>1</th>\n",
       "      <td>-0.6273</td>\n",
       "      <td>-0.2097</td>\n",
       "      <td>0.9404</td>\n",
       "      <td>0.1143</td>\n",
       "      <td>0.3487</td>\n",
       "      <td>-0.5206</td>\n",
       "      <td>0.0061</td>\n",
       "      <td>0.5024</td>\n",
       "      <td>-0.6687</td>\n",
       "    </tr>\n",
       "    <tr>\n",
       "      <th>2</th>\n",
       "      <td>0.1624</td>\n",
       "      <td>-0.1173</td>\n",
       "      <td>0.4260</td>\n",
       "      <td>-0.3607</td>\n",
       "      <td>-0.6632</td>\n",
       "      <td>0.4431</td>\n",
       "      <td>-0.8355</td>\n",
       "      <td>0.7206</td>\n",
       "      <td>-0.8977</td>\n",
       "    </tr>\n",
       "    <tr>\n",
       "      <th>3</th>\n",
       "      <td>-1.0000</td>\n",
       "      <td>0.7758</td>\n",
       "      <td>-0.2670</td>\n",
       "      <td>-0.8880</td>\n",
       "      <td>-0.1099</td>\n",
       "      <td>-0.9183</td>\n",
       "      <td>-0.4086</td>\n",
       "      <td>0.8962</td>\n",
       "      <td>0.5841</td>\n",
       "    </tr>\n",
       "    <tr>\n",
       "      <th>4</th>\n",
       "      <td>0.8464</td>\n",
       "      <td>0.1762</td>\n",
       "      <td>0.2729</td>\n",
       "      <td>0.2724</td>\n",
       "      <td>0.8155</td>\n",
       "      <td>0.6096</td>\n",
       "      <td>-0.2844</td>\n",
       "      <td>0.9800</td>\n",
       "      <td>0.3302</td>\n",
       "    </tr>\n",
       "  </tbody>\n",
       "</table>\n",
       "</div>"
      ],
      "text/plain": [
       "        0       1       2       3       4       5       6       7       8\n",
       "0  0.8105 -0.3500  0.4769  0.4541 -0.9829  0.5252  0.3838 -0.3408 -0.4824\n",
       "1 -0.6273 -0.2097  0.9404  0.1143  0.3487 -0.5206  0.0061  0.5024 -0.6687\n",
       "2  0.1624 -0.1173  0.4260 -0.3607 -0.6632  0.4431 -0.8355  0.7206 -0.8977\n",
       "3 -1.0000  0.7758 -0.2670 -0.8880 -0.1099 -0.9183 -0.4086  0.8962  0.5841\n",
       "4  0.8464  0.1762  0.2729  0.2724  0.8155  0.6096 -0.2844  0.9800  0.3302"
      ]
     },
     "execution_count": 3,
     "metadata": {},
     "output_type": "execute_result"
    }
   ],
   "source": [
    "Data = pd.read_csv('Data/hw4_kmeans_train.dat',header=None,delim_whitespace=True)\n",
    "Data.head()"
   ]
  },
  {
   "cell_type": "code",
   "execution_count": 4,
   "metadata": {
    "collapsed": false
   },
   "outputs": [
    {
     "name": "stdout",
     "output_type": "stream",
     "text": [
      "Averaged Ein: 1.6868, using 21.97 seconds.\n"
     ]
    }
   ],
   "source": [
    "start = time.clock()\n",
    "Ein = []\n",
    "for i in range(500):\n",
    "    K = KMeans(10)\n",
    "    cent = K.cluster(Data.values)\n",
    "    Ein.append(K.square_error())\n",
    "    \n",
    "print('Averaged Ein: %.4f, using %.2f seconds.'%(np.mean(Ein),time.clock()-start))"
   ]
  },
  {
   "cell_type": "code",
   "execution_count": null,
   "metadata": {
    "collapsed": true
   },
   "outputs": [],
   "source": []
  }
 ],
 "metadata": {
  "kernelspec": {
   "display_name": "Python 3",
   "language": "python",
   "name": "python3"
  },
  "language_info": {
   "codemirror_mode": {
    "name": "ipython",
    "version": 3
   },
   "file_extension": ".py",
   "mimetype": "text/x-python",
   "name": "python",
   "nbconvert_exporter": "python",
   "pygments_lexer": "ipython3",
   "version": "3.4.3"
  }
 },
 "nbformat": 4,
 "nbformat_minor": 0
}
