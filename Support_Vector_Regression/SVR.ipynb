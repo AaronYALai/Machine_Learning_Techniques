{
 "cells": [
  {
   "cell_type": "code",
   "execution_count": 1,
   "metadata": {
    "collapsed": true
   },
   "outputs": [],
   "source": [
    "# Data:\n",
    "# https://d396qusza40orc.cloudfront.net/ntumltwo/hw2_data/hw2_lssvm_all.dat\n",
    "# first 400 rows as training set and last 100 rows as testing set\n",
    "\n",
    "import numpy as np\n",
    "import pandas as pd\n",
    "import time"
   ]
  },
  {
   "cell_type": "code",
   "execution_count": 2,
   "metadata": {
    "collapsed": true
   },
   "outputs": [],
   "source": [
    "def memo(f):\n",
    "    \"\"\"Memoization decorator, Used to accelerate the retrieval\"\"\"\n",
    "    cache = {}\n",
    "\n",
    "    def _f(*args):\n",
    "        try:\n",
    "            return cache[args]\n",
    "        except KeyError:\n",
    "            cache[args] = result = f(*args)\n",
    "            return result\n",
    "        # Some elements of args unhashable\n",
    "        except TypeError:\n",
    "            return f(args)\n",
    "\n",
    "    _f.cache = cache\n",
    "    return _f\n",
    "\n",
    "\n",
    "def kernel(x1, x2, gamma):\n",
    "    \"\"\"Guassian-RBF kernel\"\"\"\n",
    "    return np.exp(-gamma * sum((x1 - x2)**2))\n",
    "\n",
    "\n",
    "def g(beta, gamma, x):\n",
    "    \"\"\"One hypothesis\"\"\"\n",
    "    val = sum([beta[i] * kernel(X[i], x, gamma) for i in range(len(beta))])\n",
    "    return 1 if val >= 0 else -1\n",
    "\n",
    "\n",
    "@memo\n",
    "def kernel_matrix(N, gamma):\n",
    "    \"\"\"Compute the kernel matrix K(xi,xj)\"\"\"\n",
    "    K = np.zeros((N, N))\n",
    "    for i in range(N):\n",
    "        for j in range(i, N):\n",
    "            K[i][j] = kernel(X[i], X[j], gamma)\n",
    "            K[j][i] = K[i][j]\n",
    "\n",
    "    return K\n",
    "\n",
    "\n",
    "def beta_star(lamb_identity, K, train_data):\n",
    "    \"\"\"Calculate the optimal beta_star\"\"\"\n",
    "    return np.dot(np.linalg.inv(lamb_identity + K), train_data[10].values)\n",
    "\n",
    "\n",
    "def predicts(beta, gamma, data):\n",
    "    \"\"\"Predict by beta, gamma, and Data\"\"\"\n",
    "    return np.array([g(beta, gamma, x) for x in data])\n"
   ]
  },
  {
   "cell_type": "code",
   "execution_count": 3,
   "metadata": {
    "collapsed": false
   },
   "outputs": [
    {
     "name": "stdout",
     "output_type": "stream",
     "text": [
      "Start Training...\n",
      "\tBest Train Accuracy 100.00 %, with lambda 0.001 and gamma 32.000.\n",
      "\tBest Test Accuracy 61.00 %, with lambda 1000.000 and gamma 0.125.\n",
      "Used 13.40 seconds\n"
     ]
    }
   ],
   "source": [
    "LS_Data = pd.read_csv('Data/hw2_lssvm_all.dat', sep=' ', header=None, skipinitialspace=True)\n",
    "\n",
    "train_data = LS_Data[:400]\n",
    "test_data = LS_Data[400:]\n",
    "\n",
    "print('Start Training...')\n",
    "start = time.clock()\n",
    "\n",
    "X = np.array(train_data[list(range(10))].values)\n",
    "X_test = np.array(test_data[list(range(10))].values)\n",
    "N = len(X)\n",
    "N_t = len(X_test)\n",
    "Max_in = 0\n",
    "Max_out = 0\n",
    "\n",
    "for lamb in [0.001, 1, 1000]:\n",
    "    for gamma in [32, 2, 0.125]:\n",
    "        lamb_identity = np.identity(N) * lamb\n",
    "        K = kernel_matrix(N, gamma)\n",
    "        beta = beta_star(lamb_identity, K, train_data)\n",
    "\n",
    "        predict_in = predicts(beta, gamma, X)\n",
    "        predict_out = predicts(beta, gamma, X_test)\n",
    "\n",
    "        Accu_in = np.sum(np.array(predict_in) == train_data[10].values) / N\n",
    "        Accu_out = np.sum(np.array(predict_out) == test_data[10].values) / N_t\n",
    "\n",
    "        if Accu_in > Max_in:\n",
    "            best_in = lamb, gamma, beta\n",
    "            Max_in = Accu_in\n",
    "\n",
    "        if Accu_out > Max_out:\n",
    "            best_out = lamb, gamma, beta\n",
    "            Max_out = Accu_out\n",
    "\n",
    "print('\\tBest Train Accuracy %.2f %%, with lambda %.3f and gamma %.3f.' %\n",
    "      (100 * Max_in, best_in[0], best_in[1]))\n",
    "print('\\tBest Test Accuracy %.2f %%, with lambda %.3f and gamma %.3f.' %\n",
    "      (100 * Max_out, best_out[0], best_out[1]))\n",
    "print('Used %.2f seconds' % (time.clock() - start))"
   ]
  },
  {
   "cell_type": "code",
   "execution_count": null,
   "metadata": {
    "collapsed": true
   },
   "outputs": [],
   "source": []
  }
 ],
 "metadata": {
  "kernelspec": {
   "display_name": "Python 3",
   "language": "python",
   "name": "python3"
  },
  "language_info": {
   "codemirror_mode": {
    "name": "ipython",
    "version": 3
   },
   "file_extension": ".py",
   "mimetype": "text/x-python",
   "name": "python",
   "nbconvert_exporter": "python",
   "pygments_lexer": "ipython3",
   "version": "3.4.5"
  }
 },
 "nbformat": 4,
 "nbformat_minor": 0
}
